{
  "cells": [
    {
      "cell_type": "markdown",
      "metadata": {
        "id": "view-in-github",
        "colab_type": "text"
      },
      "source": [
        "<a href=\"https://colab.research.google.com/github/DSBA-DM/DSBA-DM/blob/main/Hackathons_Wilson_credit_pyCareat.ipynb\" target=\"_parent\"><img src=\"https://colab.research.google.com/assets/colab-badge.svg\" alt=\"Open In Colab\"/></a>"
      ]
    },
    {
      "cell_type": "code",
      "execution_count": 1,
      "metadata": {
        "id": "a800a311"
      },
      "outputs": [],
      "source": [
        "import pandas as pd"
      ],
      "id": "a800a311"
    },
    {
      "cell_type": "code",
      "execution_count": 2,
      "metadata": {
        "colab": {
          "base_uri": "https://localhost:8080/"
        },
        "id": "fw8ihquODV4S",
        "outputId": "d3b3ab04-9b2a-4281-b985-f495252f6450"
      },
      "outputs": [
        {
          "output_type": "stream",
          "name": "stdout",
          "text": [
            "Looking in indexes: https://pypi.org/simple, https://us-python.pkg.dev/colab-wheels/public/simple/\n",
            "Requirement already satisfied: pycaret in /usr/local/lib/python3.8/dist-packages (3.0.0rc6)\n",
            "Requirement already satisfied: psutil>=5.9.0 in /usr/local/lib/python3.8/dist-packages (from pycaret) (5.9.4)\n",
            "Requirement already satisfied: ipython>=5.5.0 in /usr/local/lib/python3.8/dist-packages (from pycaret) (7.9.0)\n",
            "Requirement already satisfied: yellowbrick>=1.4 in /usr/local/lib/python3.8/dist-packages (from pycaret) (1.5)\n",
            "Requirement already satisfied: schemdraw>=0.14 in /usr/local/lib/python3.8/dist-packages (from pycaret) (0.15)\n",
            "Requirement already satisfied: scikit-plot>=0.3.7 in /usr/local/lib/python3.8/dist-packages (from pycaret) (0.3.7)\n",
            "Requirement already satisfied: requests>=2.27.1 in /usr/local/lib/python3.8/dist-packages (from pycaret) (2.28.1)\n",
            "Requirement already satisfied: jinja2>=1.2 in /usr/local/lib/python3.8/dist-packages (from pycaret) (2.11.3)\n",
            "Requirement already satisfied: kaleido>=0.2.1 in /usr/local/lib/python3.8/dist-packages (from pycaret) (0.2.1)\n",
            "Requirement already satisfied: numba>=0.55.0 in /usr/local/lib/python3.8/dist-packages (from pycaret) (0.56.4)\n",
            "Requirement already satisfied: lightgbm>=3.0.0 in /usr/local/lib/python3.8/dist-packages (from pycaret) (3.3.3)\n",
            "Requirement already satisfied: scipy<2.0.0 in /usr/local/lib/python3.8/dist-packages (from pycaret) (1.7.3)\n",
            "Requirement already satisfied: pandas<1.6.0,>=1.3.0 in /usr/local/lib/python3.8/dist-packages (from pycaret) (1.3.5)\n",
            "Requirement already satisfied: scikit-learn>=1.0 in /usr/local/lib/python3.8/dist-packages (from pycaret) (1.0.2)\n",
            "Requirement already satisfied: pyod>=0.9.8 in /usr/local/lib/python3.8/dist-packages (from pycaret) (1.0.7)\n",
            "Requirement already satisfied: tbats>=1.1.0 in /usr/local/lib/python3.8/dist-packages (from pycaret) (1.1.2)\n",
            "Requirement already satisfied: numpy<1.23,>=1.21 in /usr/local/lib/python3.8/dist-packages (from pycaret) (1.21.6)\n",
            "Requirement already satisfied: joblib>=1.2.0 in /usr/local/lib/python3.8/dist-packages (from pycaret) (1.2.0)\n",
            "Requirement already satisfied: statsmodels>=0.12.1 in /usr/local/lib/python3.8/dist-packages (from pycaret) (0.13.5)\n",
            "Requirement already satisfied: cloudpickle in /usr/local/lib/python3.8/dist-packages (from pycaret) (1.5.0)\n",
            "Requirement already satisfied: matplotlib>=3.3.0 in /usr/local/lib/python3.8/dist-packages (from pycaret) (3.6.2)\n",
            "Requirement already satisfied: deprecation>=2.1.0 in /usr/local/lib/python3.8/dist-packages (from pycaret) (2.1.0)\n",
            "Requirement already satisfied: sktime<0.15.0,>=0.14.0 in /usr/local/lib/python3.8/dist-packages (from pycaret) (0.14.1)\n",
            "Requirement already satisfied: plotly>=5.0.0 in /usr/local/lib/python3.8/dist-packages (from pycaret) (5.5.0)\n",
            "Requirement already satisfied: markupsafe>=2.0.1 in /usr/local/lib/python3.8/dist-packages (from pycaret) (2.0.1)\n",
            "Requirement already satisfied: pmdarima!=1.8.1,<3.0.0,>=1.8.0 in /usr/local/lib/python3.8/dist-packages (from pycaret) (2.0.2)\n",
            "Requirement already satisfied: imbalanced-learn>=0.8.1 in /usr/local/lib/python3.8/dist-packages (from pycaret) (0.8.1)\n",
            "Requirement already satisfied: importlib-metadata>=4.12.0 in /usr/local/lib/python3.8/dist-packages (from pycaret) (5.1.0)\n",
            "Requirement already satisfied: nbformat>=4.2.0 in /usr/local/lib/python3.8/dist-packages (from pycaret) (5.7.0)\n",
            "Requirement already satisfied: ipywidgets>=7.6.5 in /usr/local/lib/python3.8/dist-packages (from pycaret) (7.7.1)\n",
            "Requirement already satisfied: plotly-resampler>=0.7.2.2 in /usr/local/lib/python3.8/dist-packages (from pycaret) (0.8.4rc1)\n",
            "Requirement already satisfied: category-encoders>=2.4.0 in /usr/local/lib/python3.8/dist-packages (from pycaret) (2.5.1.post0)\n",
            "Requirement already satisfied: tqdm>=4.62.0 in /usr/local/lib/python3.8/dist-packages (from pycaret) (4.64.1)\n",
            "Requirement already satisfied: patsy>=0.5.1 in /usr/local/lib/python3.8/dist-packages (from category-encoders>=2.4.0->pycaret) (0.5.3)\n",
            "Requirement already satisfied: packaging in /usr/local/lib/python3.8/dist-packages (from deprecation>=2.1.0->pycaret) (21.3)\n",
            "Requirement already satisfied: zipp>=0.5 in /usr/local/lib/python3.8/dist-packages (from importlib-metadata>=4.12.0->pycaret) (3.11.0)\n",
            "Requirement already satisfied: pygments in /usr/local/lib/python3.8/dist-packages (from ipython>=5.5.0->pycaret) (2.6.1)\n",
            "Requirement already satisfied: traitlets>=4.2 in /usr/local/lib/python3.8/dist-packages (from ipython>=5.5.0->pycaret) (5.7.1)\n",
            "Requirement already satisfied: prompt-toolkit<2.1.0,>=2.0.0 in /usr/local/lib/python3.8/dist-packages (from ipython>=5.5.0->pycaret) (2.0.10)\n",
            "Requirement already satisfied: backcall in /usr/local/lib/python3.8/dist-packages (from ipython>=5.5.0->pycaret) (0.2.0)\n",
            "Requirement already satisfied: jedi>=0.10 in /usr/local/lib/python3.8/dist-packages (from ipython>=5.5.0->pycaret) (0.18.2)\n",
            "Requirement already satisfied: pexpect in /usr/local/lib/python3.8/dist-packages (from ipython>=5.5.0->pycaret) (4.8.0)\n",
            "Requirement already satisfied: pickleshare in /usr/local/lib/python3.8/dist-packages (from ipython>=5.5.0->pycaret) (0.7.5)\n",
            "Requirement already satisfied: setuptools>=18.5 in /usr/local/lib/python3.8/dist-packages (from ipython>=5.5.0->pycaret) (57.4.0)\n",
            "Requirement already satisfied: decorator in /usr/local/lib/python3.8/dist-packages (from ipython>=5.5.0->pycaret) (4.4.2)\n",
            "Requirement already satisfied: jupyterlab-widgets>=1.0.0 in /usr/local/lib/python3.8/dist-packages (from ipywidgets>=7.6.5->pycaret) (3.0.4)\n",
            "Requirement already satisfied: ipython-genutils~=0.2.0 in /usr/local/lib/python3.8/dist-packages (from ipywidgets>=7.6.5->pycaret) (0.2.0)\n",
            "Requirement already satisfied: ipykernel>=4.5.1 in /usr/local/lib/python3.8/dist-packages (from ipywidgets>=7.6.5->pycaret) (5.3.4)\n",
            "Requirement already satisfied: widgetsnbextension~=3.6.0 in /usr/local/lib/python3.8/dist-packages (from ipywidgets>=7.6.5->pycaret) (3.6.1)\n",
            "Requirement already satisfied: tornado>=4.2 in /usr/local/lib/python3.8/dist-packages (from ipykernel>=4.5.1->ipywidgets>=7.6.5->pycaret) (6.0.4)\n",
            "Requirement already satisfied: jupyter-client in /usr/local/lib/python3.8/dist-packages (from ipykernel>=4.5.1->ipywidgets>=7.6.5->pycaret) (6.1.12)\n",
            "Requirement already satisfied: parso<0.9.0,>=0.8.0 in /usr/local/lib/python3.8/dist-packages (from jedi>=0.10->ipython>=5.5.0->pycaret) (0.8.3)\n",
            "Requirement already satisfied: wheel in /usr/local/lib/python3.8/dist-packages (from lightgbm>=3.0.0->pycaret) (0.38.4)\n",
            "Requirement already satisfied: cycler>=0.10 in /usr/local/lib/python3.8/dist-packages (from matplotlib>=3.3.0->pycaret) (0.11.0)\n",
            "Requirement already satisfied: kiwisolver>=1.0.1 in /usr/local/lib/python3.8/dist-packages (from matplotlib>=3.3.0->pycaret) (1.4.4)\n",
            "Requirement already satisfied: python-dateutil>=2.7 in /usr/local/lib/python3.8/dist-packages (from matplotlib>=3.3.0->pycaret) (2.8.2)\n",
            "Requirement already satisfied: fonttools>=4.22.0 in /usr/local/lib/python3.8/dist-packages (from matplotlib>=3.3.0->pycaret) (4.38.0)\n",
            "Requirement already satisfied: pyparsing>=2.2.1 in /usr/local/lib/python3.8/dist-packages (from matplotlib>=3.3.0->pycaret) (3.0.9)\n",
            "Requirement already satisfied: contourpy>=1.0.1 in /usr/local/lib/python3.8/dist-packages (from matplotlib>=3.3.0->pycaret) (1.0.6)\n",
            "Requirement already satisfied: pillow>=6.2.0 in /usr/local/lib/python3.8/dist-packages (from matplotlib>=3.3.0->pycaret) (7.1.2)\n",
            "Requirement already satisfied: jupyter-core in /usr/local/lib/python3.8/dist-packages (from nbformat>=4.2.0->pycaret) (5.1.0)\n",
            "Requirement already satisfied: fastjsonschema in /usr/local/lib/python3.8/dist-packages (from nbformat>=4.2.0->pycaret) (2.16.2)\n",
            "Requirement already satisfied: jsonschema>=2.6 in /usr/local/lib/python3.8/dist-packages (from nbformat>=4.2.0->pycaret) (4.3.3)\n",
            "Requirement already satisfied: importlib-resources>=1.4.0 in /usr/local/lib/python3.8/dist-packages (from jsonschema>=2.6->nbformat>=4.2.0->pycaret) (5.10.1)\n",
            "Requirement already satisfied: pyrsistent!=0.17.0,!=0.17.1,!=0.17.2,>=0.14.0 in /usr/local/lib/python3.8/dist-packages (from jsonschema>=2.6->nbformat>=4.2.0->pycaret) (0.19.2)\n",
            "Requirement already satisfied: attrs>=17.4.0 in /usr/local/lib/python3.8/dist-packages (from jsonschema>=2.6->nbformat>=4.2.0->pycaret) (22.1.0)\n",
            "Requirement already satisfied: llvmlite<0.40,>=0.39.0dev0 in /usr/local/lib/python3.8/dist-packages (from numba>=0.55.0->pycaret) (0.39.1)\n",
            "Requirement already satisfied: pytz>=2017.3 in /usr/local/lib/python3.8/dist-packages (from pandas<1.6.0,>=1.3.0->pycaret) (2022.6)\n",
            "Requirement already satisfied: six in /usr/local/lib/python3.8/dist-packages (from patsy>=0.5.1->category-encoders>=2.4.0->pycaret) (1.15.0)\n",
            "Requirement already satisfied: tenacity>=6.2.0 in /usr/local/lib/python3.8/dist-packages (from plotly>=5.0.0->pycaret) (8.1.0)\n",
            "Requirement already satisfied: Werkzeug<=2.1.2 in /usr/local/lib/python3.8/dist-packages (from plotly-resampler>=0.7.2.2->pycaret) (1.0.1)\n",
            "Requirement already satisfied: orjson<4.0.0,>=3.8.0 in /usr/local/lib/python3.8/dist-packages (from plotly-resampler>=0.7.2.2->pycaret) (3.8.3)\n",
            "Requirement already satisfied: dash<3.0.0,>=2.2.0 in /usr/local/lib/python3.8/dist-packages (from plotly-resampler>=0.7.2.2->pycaret) (2.7.1)\n",
            "Requirement already satisfied: trace-updater>=0.0.8 in /usr/local/lib/python3.8/dist-packages (from plotly-resampler>=0.7.2.2->pycaret) (0.0.9)\n",
            "Requirement already satisfied: Flask-Cors<4.0.0,>=3.0.10 in /usr/local/lib/python3.8/dist-packages (from plotly-resampler>=0.7.2.2->pycaret) (3.0.10)\n",
            "Requirement already satisfied: jupyter-dash>=0.4.2 in /usr/local/lib/python3.8/dist-packages (from plotly-resampler>=0.7.2.2->pycaret) (0.4.2)\n",
            "Requirement already satisfied: Flask>=1.0.4 in /usr/local/lib/python3.8/dist-packages (from dash<3.0.0,>=2.2.0->plotly-resampler>=0.7.2.2->pycaret) (1.1.4)\n",
            "Requirement already satisfied: dash-html-components==2.0.0 in /usr/local/lib/python3.8/dist-packages (from dash<3.0.0,>=2.2.0->plotly-resampler>=0.7.2.2->pycaret) (2.0.0)\n",
            "Requirement already satisfied: dash-core-components==2.0.0 in /usr/local/lib/python3.8/dist-packages (from dash<3.0.0,>=2.2.0->plotly-resampler>=0.7.2.2->pycaret) (2.0.0)\n",
            "Requirement already satisfied: dash-table==5.0.0 in /usr/local/lib/python3.8/dist-packages (from dash<3.0.0,>=2.2.0->plotly-resampler>=0.7.2.2->pycaret) (5.0.0)\n",
            "Requirement already satisfied: itsdangerous<2.0,>=0.24 in /usr/local/lib/python3.8/dist-packages (from Flask>=1.0.4->dash<3.0.0,>=2.2.0->plotly-resampler>=0.7.2.2->pycaret) (1.1.0)\n",
            "Requirement already satisfied: click<8.0,>=5.1 in /usr/local/lib/python3.8/dist-packages (from Flask>=1.0.4->dash<3.0.0,>=2.2.0->plotly-resampler>=0.7.2.2->pycaret) (7.1.2)\n",
            "Requirement already satisfied: nest-asyncio in /usr/local/lib/python3.8/dist-packages (from jupyter-dash>=0.4.2->plotly-resampler>=0.7.2.2->pycaret) (1.5.6)\n",
            "Requirement already satisfied: retrying in /usr/local/lib/python3.8/dist-packages (from jupyter-dash>=0.4.2->plotly-resampler>=0.7.2.2->pycaret) (1.3.4)\n",
            "Requirement already satisfied: ansi2html in /usr/local/lib/python3.8/dist-packages (from jupyter-dash>=0.4.2->plotly-resampler>=0.7.2.2->pycaret) (1.8.0)\n",
            "Requirement already satisfied: urllib3 in /usr/local/lib/python3.8/dist-packages (from pmdarima!=1.8.1,<3.0.0,>=1.8.0->pycaret) (1.24.3)\n",
            "Requirement already satisfied: Cython!=0.29.18,!=0.29.31,>=0.29 in /usr/local/lib/python3.8/dist-packages (from pmdarima!=1.8.1,<3.0.0,>=1.8.0->pycaret) (0.29.32)\n",
            "Requirement already satisfied: wcwidth in /usr/local/lib/python3.8/dist-packages (from prompt-toolkit<2.1.0,>=2.0.0->ipython>=5.5.0->pycaret) (0.2.5)\n",
            "Requirement already satisfied: certifi>=2017.4.17 in /usr/local/lib/python3.8/dist-packages (from requests>=2.27.1->pycaret) (2022.12.7)\n",
            "Requirement already satisfied: charset-normalizer<3,>=2 in /usr/local/lib/python3.8/dist-packages (from requests>=2.27.1->pycaret) (2.1.1)\n",
            "Requirement already satisfied: idna<4,>=2.5 in /usr/local/lib/python3.8/dist-packages (from requests>=2.27.1->pycaret) (2.10)\n",
            "Requirement already satisfied: threadpoolctl>=2.0.0 in /usr/local/lib/python3.8/dist-packages (from scikit-learn>=1.0->pycaret) (3.1.0)\n",
            "Requirement already satisfied: deprecated>=1.2.13 in /usr/local/lib/python3.8/dist-packages (from sktime<0.15.0,>=0.14.0->pycaret) (1.2.13)\n",
            "Requirement already satisfied: wrapt<2,>=1.10 in /usr/local/lib/python3.8/dist-packages (from deprecated>=1.2.13->sktime<0.15.0,>=0.14.0->pycaret) (1.14.1)\n",
            "Requirement already satisfied: notebook>=4.4.1 in /usr/local/lib/python3.8/dist-packages (from widgetsnbextension~=3.6.0->ipywidgets>=7.6.5->pycaret) (5.7.16)\n",
            "Requirement already satisfied: nbconvert<6.0 in /usr/local/lib/python3.8/dist-packages (from notebook>=4.4.1->widgetsnbextension~=3.6.0->ipywidgets>=7.6.5->pycaret) (5.6.1)\n",
            "Requirement already satisfied: prometheus-client in /usr/local/lib/python3.8/dist-packages (from notebook>=4.4.1->widgetsnbextension~=3.6.0->ipywidgets>=7.6.5->pycaret) (0.15.0)\n",
            "Requirement already satisfied: terminado>=0.8.1 in /usr/local/lib/python3.8/dist-packages (from notebook>=4.4.1->widgetsnbextension~=3.6.0->ipywidgets>=7.6.5->pycaret) (0.13.3)\n",
            "Requirement already satisfied: Send2Trash in /usr/local/lib/python3.8/dist-packages (from notebook>=4.4.1->widgetsnbextension~=3.6.0->ipywidgets>=7.6.5->pycaret) (1.8.0)\n",
            "Requirement already satisfied: pyzmq>=17 in /usr/local/lib/python3.8/dist-packages (from notebook>=4.4.1->widgetsnbextension~=3.6.0->ipywidgets>=7.6.5->pycaret) (23.2.1)\n",
            "Requirement already satisfied: platformdirs>=2.5 in /usr/local/lib/python3.8/dist-packages (from jupyter-core->nbformat>=4.2.0->pycaret) (2.6.0)\n",
            "Requirement already satisfied: entrypoints>=0.2.2 in /usr/local/lib/python3.8/dist-packages (from nbconvert<6.0->notebook>=4.4.1->widgetsnbextension~=3.6.0->ipywidgets>=7.6.5->pycaret) (0.4)\n",
            "Requirement already satisfied: pandocfilters>=1.4.1 in /usr/local/lib/python3.8/dist-packages (from nbconvert<6.0->notebook>=4.4.1->widgetsnbextension~=3.6.0->ipywidgets>=7.6.5->pycaret) (1.5.0)\n",
            "Requirement already satisfied: defusedxml in /usr/local/lib/python3.8/dist-packages (from nbconvert<6.0->notebook>=4.4.1->widgetsnbextension~=3.6.0->ipywidgets>=7.6.5->pycaret) (0.7.1)\n",
            "Requirement already satisfied: testpath in /usr/local/lib/python3.8/dist-packages (from nbconvert<6.0->notebook>=4.4.1->widgetsnbextension~=3.6.0->ipywidgets>=7.6.5->pycaret) (0.6.0)\n",
            "Requirement already satisfied: mistune<2,>=0.8.1 in /usr/local/lib/python3.8/dist-packages (from nbconvert<6.0->notebook>=4.4.1->widgetsnbextension~=3.6.0->ipywidgets>=7.6.5->pycaret) (0.8.4)\n",
            "Requirement already satisfied: bleach in /usr/local/lib/python3.8/dist-packages (from nbconvert<6.0->notebook>=4.4.1->widgetsnbextension~=3.6.0->ipywidgets>=7.6.5->pycaret) (5.0.1)\n",
            "Requirement already satisfied: ptyprocess in /usr/local/lib/python3.8/dist-packages (from terminado>=0.8.1->notebook>=4.4.1->widgetsnbextension~=3.6.0->ipywidgets>=7.6.5->pycaret) (0.7.0)\n",
            "Requirement already satisfied: webencodings in /usr/local/lib/python3.8/dist-packages (from bleach->nbconvert<6.0->notebook>=4.4.1->widgetsnbextension~=3.6.0->ipywidgets>=7.6.5->pycaret) (0.5.1)\n"
          ]
        }
      ],
      "source": [
        "!pip install --pre pycaret"
      ],
      "id": "fw8ihquODV4S"
    },
    {
      "cell_type": "code",
      "execution_count": 3,
      "metadata": {
        "colab": {
          "base_uri": "https://localhost:8080/"
        },
        "id": "LF0Pm86HCHI-",
        "outputId": "33dcf30c-e7f2-4b97-fef2-7af716c7c330"
      },
      "outputs": [
        {
          "output_type": "stream",
          "name": "stdout",
          "text": [
            "Mounted at /content/drive\n"
          ]
        }
      ],
      "source": [
        "# uncomment and run the following lines for Google Colab\n",
        "from google.colab import drive\n",
        "drive.mount('/content/drive')"
      ],
      "id": "LF0Pm86HCHI-"
    },
    {
      "cell_type": "code",
      "execution_count": 4,
      "metadata": {
        "colab": {
          "base_uri": "https://localhost:8080/"
        },
        "id": "6bcc8f74",
        "outputId": "49ab75c1-419c-423a-c391-83368fc956f2"
      },
      "outputs": [
        {
          "output_type": "stream",
          "name": "stderr",
          "text": [
            "/usr/local/lib/python3.8/dist-packages/IPython/core/interactiveshell.py:3326: DtypeWarning: Columns (5) have mixed types.Specify dtype option on import or set low_memory=False.\n",
            "  exec(code_obj, self.user_global_ns, self.user_ns)\n"
          ]
        }
      ],
      "source": [
        "data=pd.read_csv(\"/content/drive/MyDrive/Hackathon_Wilson_Analytics/training_data.csv\")"
      ],
      "id": "6bcc8f74"
    },
    {
      "cell_type": "code",
      "execution_count": 5,
      "metadata": {
        "id": "28074308"
      },
      "outputs": [],
      "source": [
        "test=pd.read_csv(\"/content/drive/MyDrive/Hackathon_Wilson_Analytics/testing_data.csv\")"
      ],
      "id": "28074308"
    },
    {
      "cell_type": "code",
      "execution_count": 6,
      "metadata": {
        "id": "a9219faa",
        "colab": {
          "base_uri": "https://localhost:8080/",
          "height": 438
        },
        "outputId": "4e1d0500-5dfb-432c-c103-b4de4324f144"
      },
      "outputs": [
        {
          "output_type": "execute_result",
          "data": {
            "text/plain": [
              "   ID Date_Of_Disbursement  Business  Jobs_Reatained  Jobs_Created   \\\n",
              "0   0            31-Jul-91  Existing               0              0   \n",
              "1   1            30-Apr-06       New               0              6   \n",
              "2   2            30-Jun-04  Existing               4              0   \n",
              "3   3            31-Jan-06       New               9              1   \n",
              "4   4            31-Dec-04  Existing               4              0   \n",
              "\n",
              "  Year_Of_Commitment  Guaranteed_Approved _Loan  \\\n",
              "0                1991             Rs.33121600.0   \n",
              "1                2006             Rs.32735520.0   \n",
              "2                2004              Rs.1422400.0   \n",
              "3                2006              Rs.2032000.0   \n",
              "4                2005             Rs.22981920.0   \n",
              "\n",
              "                   Borrower_Name  Low_Documentation_Loan Demography  ...  \\\n",
              "0      STANDARD PARTS CORPORATION                     No  Undefined  ...   \n",
              "1            FRANK & KERI AMESTOY                     No      Urban  ...   \n",
              "2                TELECOMMQC L L C                     No      Urban  ...   \n",
              "3  K & A AUTOMOTIVE, INC. DBA MUF                     No      Urban  ...   \n",
              "4                    SUNBEAM DELI                     No      Urban  ...   \n",
              "\n",
              "  Classification_Code  Loan_Approved_Gross Gross_Amount_Disbursed   Loan_Term  \\\n",
              "0                    0       Rs.40640000.0            Rs.40640000.0       126   \n",
              "1               451120       Rs.43647360.0            Rs.43647360.0       123   \n",
              "2               541618        Rs.2844800.0            Rs.5961400.32        90   \n",
              "3               811112        Rs.4064000.0             Rs.4064000.0       126   \n",
              "4               722211       Rs.30642560.0            Rs.30642560.0       104   \n",
              "\n",
              "  Commitment_Date  Primary_Loan_Digit  Code_Franchise          Name_Of_Bank  \\\n",
              "0        2-Apr-91          4419763001               1        Axis Bank Ltd.   \n",
              "1       10-Apr-06          1709796003               1     Bandhan Bank Ltd.   \n",
              "2       25-May-04          7464754008               1      CSB Bank Limited   \n",
              "3       21-Dec-05          1588745006               0  City Union Bank Ltd.   \n",
              "4        2-Nov-04          8037734002               1         DCB Bank Ltd.   \n",
              "\n",
              "  Revolving_Credit_Line  Default  \n",
              "0                    No        0  \n",
              "1                     0        1  \n",
              "2                   Yes        0  \n",
              "3                   Yes        0  \n",
              "4                     0        1  \n",
              "\n",
              "[5 rows x 26 columns]"
            ],
            "text/html": [
              "\n",
              "  <div id=\"df-e3ce91f0-ee07-4322-84f2-da15e8f823fe\">\n",
              "    <div class=\"colab-df-container\">\n",
              "      <div>\n",
              "<style scoped>\n",
              "    .dataframe tbody tr th:only-of-type {\n",
              "        vertical-align: middle;\n",
              "    }\n",
              "\n",
              "    .dataframe tbody tr th {\n",
              "        vertical-align: top;\n",
              "    }\n",
              "\n",
              "    .dataframe thead th {\n",
              "        text-align: right;\n",
              "    }\n",
              "</style>\n",
              "<table border=\"1\" class=\"dataframe\">\n",
              "  <thead>\n",
              "    <tr style=\"text-align: right;\">\n",
              "      <th></th>\n",
              "      <th>ID</th>\n",
              "      <th>Date_Of_Disbursement</th>\n",
              "      <th>Business</th>\n",
              "      <th>Jobs_Reatained</th>\n",
              "      <th>Jobs_Created</th>\n",
              "      <th>Year_Of_Commitment</th>\n",
              "      <th>Guaranteed_Approved _Loan</th>\n",
              "      <th>Borrower_Name</th>\n",
              "      <th>Low_Documentation_Loan</th>\n",
              "      <th>Demography</th>\n",
              "      <th>...</th>\n",
              "      <th>Classification_Code</th>\n",
              "      <th>Loan_Approved_Gross</th>\n",
              "      <th>Gross_Amount_Disbursed</th>\n",
              "      <th>Loan_Term</th>\n",
              "      <th>Commitment_Date</th>\n",
              "      <th>Primary_Loan_Digit</th>\n",
              "      <th>Code_Franchise</th>\n",
              "      <th>Name_Of_Bank</th>\n",
              "      <th>Revolving_Credit_Line</th>\n",
              "      <th>Default</th>\n",
              "    </tr>\n",
              "  </thead>\n",
              "  <tbody>\n",
              "    <tr>\n",
              "      <th>0</th>\n",
              "      <td>0</td>\n",
              "      <td>31-Jul-91</td>\n",
              "      <td>Existing</td>\n",
              "      <td>0</td>\n",
              "      <td>0</td>\n",
              "      <td>1991</td>\n",
              "      <td>Rs.33121600.0</td>\n",
              "      <td>STANDARD PARTS CORPORATION</td>\n",
              "      <td>No</td>\n",
              "      <td>Undefined</td>\n",
              "      <td>...</td>\n",
              "      <td>0</td>\n",
              "      <td>Rs.40640000.0</td>\n",
              "      <td>Rs.40640000.0</td>\n",
              "      <td>126</td>\n",
              "      <td>2-Apr-91</td>\n",
              "      <td>4419763001</td>\n",
              "      <td>1</td>\n",
              "      <td>Axis Bank Ltd.</td>\n",
              "      <td>No</td>\n",
              "      <td>0</td>\n",
              "    </tr>\n",
              "    <tr>\n",
              "      <th>1</th>\n",
              "      <td>1</td>\n",
              "      <td>30-Apr-06</td>\n",
              "      <td>New</td>\n",
              "      <td>0</td>\n",
              "      <td>6</td>\n",
              "      <td>2006</td>\n",
              "      <td>Rs.32735520.0</td>\n",
              "      <td>FRANK &amp; KERI AMESTOY</td>\n",
              "      <td>No</td>\n",
              "      <td>Urban</td>\n",
              "      <td>...</td>\n",
              "      <td>451120</td>\n",
              "      <td>Rs.43647360.0</td>\n",
              "      <td>Rs.43647360.0</td>\n",
              "      <td>123</td>\n",
              "      <td>10-Apr-06</td>\n",
              "      <td>1709796003</td>\n",
              "      <td>1</td>\n",
              "      <td>Bandhan Bank Ltd.</td>\n",
              "      <td>0</td>\n",
              "      <td>1</td>\n",
              "    </tr>\n",
              "    <tr>\n",
              "      <th>2</th>\n",
              "      <td>2</td>\n",
              "      <td>30-Jun-04</td>\n",
              "      <td>Existing</td>\n",
              "      <td>4</td>\n",
              "      <td>0</td>\n",
              "      <td>2004</td>\n",
              "      <td>Rs.1422400.0</td>\n",
              "      <td>TELECOMMQC L L C</td>\n",
              "      <td>No</td>\n",
              "      <td>Urban</td>\n",
              "      <td>...</td>\n",
              "      <td>541618</td>\n",
              "      <td>Rs.2844800.0</td>\n",
              "      <td>Rs.5961400.32</td>\n",
              "      <td>90</td>\n",
              "      <td>25-May-04</td>\n",
              "      <td>7464754008</td>\n",
              "      <td>1</td>\n",
              "      <td>CSB Bank Limited</td>\n",
              "      <td>Yes</td>\n",
              "      <td>0</td>\n",
              "    </tr>\n",
              "    <tr>\n",
              "      <th>3</th>\n",
              "      <td>3</td>\n",
              "      <td>31-Jan-06</td>\n",
              "      <td>New</td>\n",
              "      <td>9</td>\n",
              "      <td>1</td>\n",
              "      <td>2006</td>\n",
              "      <td>Rs.2032000.0</td>\n",
              "      <td>K &amp; A AUTOMOTIVE, INC. DBA MUF</td>\n",
              "      <td>No</td>\n",
              "      <td>Urban</td>\n",
              "      <td>...</td>\n",
              "      <td>811112</td>\n",
              "      <td>Rs.4064000.0</td>\n",
              "      <td>Rs.4064000.0</td>\n",
              "      <td>126</td>\n",
              "      <td>21-Dec-05</td>\n",
              "      <td>1588745006</td>\n",
              "      <td>0</td>\n",
              "      <td>City Union Bank Ltd.</td>\n",
              "      <td>Yes</td>\n",
              "      <td>0</td>\n",
              "    </tr>\n",
              "    <tr>\n",
              "      <th>4</th>\n",
              "      <td>4</td>\n",
              "      <td>31-Dec-04</td>\n",
              "      <td>Existing</td>\n",
              "      <td>4</td>\n",
              "      <td>0</td>\n",
              "      <td>2005</td>\n",
              "      <td>Rs.22981920.0</td>\n",
              "      <td>SUNBEAM DELI</td>\n",
              "      <td>No</td>\n",
              "      <td>Urban</td>\n",
              "      <td>...</td>\n",
              "      <td>722211</td>\n",
              "      <td>Rs.30642560.0</td>\n",
              "      <td>Rs.30642560.0</td>\n",
              "      <td>104</td>\n",
              "      <td>2-Nov-04</td>\n",
              "      <td>8037734002</td>\n",
              "      <td>1</td>\n",
              "      <td>DCB Bank Ltd.</td>\n",
              "      <td>0</td>\n",
              "      <td>1</td>\n",
              "    </tr>\n",
              "  </tbody>\n",
              "</table>\n",
              "<p>5 rows × 26 columns</p>\n",
              "</div>\n",
              "      <button class=\"colab-df-convert\" onclick=\"convertToInteractive('df-e3ce91f0-ee07-4322-84f2-da15e8f823fe')\"\n",
              "              title=\"Convert this dataframe to an interactive table.\"\n",
              "              style=\"display:none;\">\n",
              "        \n",
              "  <svg xmlns=\"http://www.w3.org/2000/svg\" height=\"24px\"viewBox=\"0 0 24 24\"\n",
              "       width=\"24px\">\n",
              "    <path d=\"M0 0h24v24H0V0z\" fill=\"none\"/>\n",
              "    <path d=\"M18.56 5.44l.94 2.06.94-2.06 2.06-.94-2.06-.94-.94-2.06-.94 2.06-2.06.94zm-11 1L8.5 8.5l.94-2.06 2.06-.94-2.06-.94L8.5 2.5l-.94 2.06-2.06.94zm10 10l.94 2.06.94-2.06 2.06-.94-2.06-.94-.94-2.06-.94 2.06-2.06.94z\"/><path d=\"M17.41 7.96l-1.37-1.37c-.4-.4-.92-.59-1.43-.59-.52 0-1.04.2-1.43.59L10.3 9.45l-7.72 7.72c-.78.78-.78 2.05 0 2.83L4 21.41c.39.39.9.59 1.41.59.51 0 1.02-.2 1.41-.59l7.78-7.78 2.81-2.81c.8-.78.8-2.07 0-2.86zM5.41 20L4 18.59l7.72-7.72 1.47 1.35L5.41 20z\"/>\n",
              "  </svg>\n",
              "      </button>\n",
              "      \n",
              "  <style>\n",
              "    .colab-df-container {\n",
              "      display:flex;\n",
              "      flex-wrap:wrap;\n",
              "      gap: 12px;\n",
              "    }\n",
              "\n",
              "    .colab-df-convert {\n",
              "      background-color: #E8F0FE;\n",
              "      border: none;\n",
              "      border-radius: 50%;\n",
              "      cursor: pointer;\n",
              "      display: none;\n",
              "      fill: #1967D2;\n",
              "      height: 32px;\n",
              "      padding: 0 0 0 0;\n",
              "      width: 32px;\n",
              "    }\n",
              "\n",
              "    .colab-df-convert:hover {\n",
              "      background-color: #E2EBFA;\n",
              "      box-shadow: 0px 1px 2px rgba(60, 64, 67, 0.3), 0px 1px 3px 1px rgba(60, 64, 67, 0.15);\n",
              "      fill: #174EA6;\n",
              "    }\n",
              "\n",
              "    [theme=dark] .colab-df-convert {\n",
              "      background-color: #3B4455;\n",
              "      fill: #D2E3FC;\n",
              "    }\n",
              "\n",
              "    [theme=dark] .colab-df-convert:hover {\n",
              "      background-color: #434B5C;\n",
              "      box-shadow: 0px 1px 3px 1px rgba(0, 0, 0, 0.15);\n",
              "      filter: drop-shadow(0px 1px 2px rgba(0, 0, 0, 0.3));\n",
              "      fill: #FFFFFF;\n",
              "    }\n",
              "  </style>\n",
              "\n",
              "      <script>\n",
              "        const buttonEl =\n",
              "          document.querySelector('#df-e3ce91f0-ee07-4322-84f2-da15e8f823fe button.colab-df-convert');\n",
              "        buttonEl.style.display =\n",
              "          google.colab.kernel.accessAllowed ? 'block' : 'none';\n",
              "\n",
              "        async function convertToInteractive(key) {\n",
              "          const element = document.querySelector('#df-e3ce91f0-ee07-4322-84f2-da15e8f823fe');\n",
              "          const dataTable =\n",
              "            await google.colab.kernel.invokeFunction('convertToInteractive',\n",
              "                                                     [key], {});\n",
              "          if (!dataTable) return;\n",
              "\n",
              "          const docLinkHtml = 'Like what you see? Visit the ' +\n",
              "            '<a target=\"_blank\" href=https://colab.research.google.com/notebooks/data_table.ipynb>data table notebook</a>'\n",
              "            + ' to learn more about interactive tables.';\n",
              "          element.innerHTML = '';\n",
              "          dataTable['output_type'] = 'display_data';\n",
              "          await google.colab.output.renderOutput(dataTable, element);\n",
              "          const docLink = document.createElement('div');\n",
              "          docLink.innerHTML = docLinkHtml;\n",
              "          element.appendChild(docLink);\n",
              "        }\n",
              "      </script>\n",
              "    </div>\n",
              "  </div>\n",
              "  "
            ]
          },
          "metadata": {},
          "execution_count": 6
        }
      ],
      "source": [
        "data.head()"
      ],
      "id": "a9219faa"
    },
    {
      "cell_type": "code",
      "execution_count": 7,
      "metadata": {
        "id": "97d25277",
        "colab": {
          "base_uri": "https://localhost:8080/"
        },
        "outputId": "77ca913b-0fd0-45b6-f5cf-550ca457cc8b"
      },
      "outputs": [
        {
          "output_type": "stream",
          "name": "stdout",
          "text": [
            "<class 'pandas.core.frame.DataFrame'>\n",
            "RangeIndex: 105000 entries, 0 to 104999\n",
            "Data columns (total 26 columns):\n",
            " #   Column                     Non-Null Count   Dtype \n",
            "---  ------                     --------------   ----- \n",
            " 0   ID                         105000 non-null  int64 \n",
            " 1   Date_Of_Disbursement       104765 non-null  object\n",
            " 2   Business                   104985 non-null  object\n",
            " 3   Jobs_Reatained             105000 non-null  int64 \n",
            " 4   Jobs_Created               105000 non-null  int64 \n",
            " 5   Year_Of_Commitment         105000 non-null  object\n",
            " 6   Guaranteed_Approved _Loan  105000 non-null  object\n",
            " 7   Borrower_Name              104997 non-null  object\n",
            " 8   Low_Documentation_Loan     104633 non-null  object\n",
            " 9   Demography                 105000 non-null  object\n",
            " 10  State_Of_Bank              105000 non-null  object\n",
            " 11  ChargedOff_Amount          105000 non-null  object\n",
            " 12  Borrower_City              105000 non-null  object\n",
            " 13  Borrower_State             105000 non-null  object\n",
            " 14  Gross_Amount_Balance       105000 non-null  object\n",
            " 15  Count_Employees            105000 non-null  int64 \n",
            " 16  Classification_Code        105000 non-null  int64 \n",
            " 17  Loan_Approved_Gross        105000 non-null  object\n",
            " 18  Gross_Amount_Disbursed     105000 non-null  object\n",
            " 19  Loan_Term                  105000 non-null  int64 \n",
            " 20  Commitment_Date            105000 non-null  object\n",
            " 21  Primary_Loan_Digit         105000 non-null  int64 \n",
            " 22  Code_Franchise             105000 non-null  int64 \n",
            " 23  Name_Of_Bank               105000 non-null  object\n",
            " 24  Revolving_Credit_Line      104509 non-null  object\n",
            " 25  Default                    105000 non-null  int64 \n",
            "dtypes: int64(9), object(17)\n",
            "memory usage: 20.8+ MB\n"
          ]
        }
      ],
      "source": [
        "data.info()"
      ],
      "id": "97d25277"
    },
    {
      "cell_type": "code",
      "execution_count": 8,
      "metadata": {
        "id": "f0a5fecd"
      },
      "outputs": [],
      "source": [
        "from pycaret.classification import * #automl "
      ],
      "id": "f0a5fecd"
    },
    {
      "cell_type": "code",
      "execution_count": 9,
      "metadata": {
        "id": "fdc4f6b7"
      },
      "outputs": [],
      "source": [
        "#"
      ],
      "id": "fdc4f6b7"
    },
    {
      "cell_type": "code",
      "execution_count": 10,
      "metadata": {
        "id": "94b62ec9",
        "colab": {
          "base_uri": "https://localhost:8080/",
          "height": 802
        },
        "outputId": "be09bd93-65fa-4e80-bc89-5c440084627a"
      },
      "outputs": [
        {
          "output_type": "display_data",
          "data": {
            "text/plain": [
              "<pandas.io.formats.style.Styler at 0x7f36e0278310>"
            ],
            "text/html": [
              "<style type=\"text/css\">\n",
              "#T_c892c_row11_col1 {\n",
              "  background-color: lightgreen;\n",
              "}\n",
              "</style>\n",
              "<table id=\"T_c892c_\" class=\"dataframe\">\n",
              "  <thead>\n",
              "    <tr>\n",
              "      <th class=\"blank level0\" >&nbsp;</th>\n",
              "      <th class=\"col_heading level0 col0\" >Description</th>\n",
              "      <th class=\"col_heading level0 col1\" >Value</th>\n",
              "    </tr>\n",
              "  </thead>\n",
              "  <tbody>\n",
              "    <tr>\n",
              "      <th id=\"T_c892c_level0_row0\" class=\"row_heading level0 row0\" >0</th>\n",
              "      <td id=\"T_c892c_row0_col0\" class=\"data row0 col0\" >Session id</td>\n",
              "      <td id=\"T_c892c_row0_col1\" class=\"data row0 col1\" >2618</td>\n",
              "    </tr>\n",
              "    <tr>\n",
              "      <th id=\"T_c892c_level0_row1\" class=\"row_heading level0 row1\" >1</th>\n",
              "      <td id=\"T_c892c_row1_col0\" class=\"data row1 col0\" >Target</td>\n",
              "      <td id=\"T_c892c_row1_col1\" class=\"data row1 col1\" >Default</td>\n",
              "    </tr>\n",
              "    <tr>\n",
              "      <th id=\"T_c892c_level0_row2\" class=\"row_heading level0 row2\" >2</th>\n",
              "      <td id=\"T_c892c_row2_col0\" class=\"data row2 col0\" >Target type</td>\n",
              "      <td id=\"T_c892c_row2_col1\" class=\"data row2 col1\" >Binary</td>\n",
              "    </tr>\n",
              "    <tr>\n",
              "      <th id=\"T_c892c_level0_row3\" class=\"row_heading level0 row3\" >3</th>\n",
              "      <td id=\"T_c892c_row3_col0\" class=\"data row3 col0\" >Original data shape</td>\n",
              "      <td id=\"T_c892c_row3_col1\" class=\"data row3 col1\" >(105000, 26)</td>\n",
              "    </tr>\n",
              "    <tr>\n",
              "      <th id=\"T_c892c_level0_row4\" class=\"row_heading level0 row4\" >4</th>\n",
              "      <td id=\"T_c892c_row4_col0\" class=\"data row4 col0\" >Transformed data shape</td>\n",
              "      <td id=\"T_c892c_row4_col1\" class=\"data row4 col1\" >(105000, 46)</td>\n",
              "    </tr>\n",
              "    <tr>\n",
              "      <th id=\"T_c892c_level0_row5\" class=\"row_heading level0 row5\" >5</th>\n",
              "      <td id=\"T_c892c_row5_col0\" class=\"data row5 col0\" >Transformed train set shape</td>\n",
              "      <td id=\"T_c892c_row5_col1\" class=\"data row5 col1\" >(73500, 46)</td>\n",
              "    </tr>\n",
              "    <tr>\n",
              "      <th id=\"T_c892c_level0_row6\" class=\"row_heading level0 row6\" >6</th>\n",
              "      <td id=\"T_c892c_row6_col0\" class=\"data row6 col0\" >Transformed test set shape</td>\n",
              "      <td id=\"T_c892c_row6_col1\" class=\"data row6 col1\" >(31500, 46)</td>\n",
              "    </tr>\n",
              "    <tr>\n",
              "      <th id=\"T_c892c_level0_row7\" class=\"row_heading level0 row7\" >7</th>\n",
              "      <td id=\"T_c892c_row7_col0\" class=\"data row7 col0\" >Ordinal features</td>\n",
              "      <td id=\"T_c892c_row7_col1\" class=\"data row7 col1\" >1</td>\n",
              "    </tr>\n",
              "    <tr>\n",
              "      <th id=\"T_c892c_level0_row8\" class=\"row_heading level0 row8\" >8</th>\n",
              "      <td id=\"T_c892c_row8_col0\" class=\"data row8 col0\" >Numeric features</td>\n",
              "      <td id=\"T_c892c_row8_col1\" class=\"data row8 col1\" >8</td>\n",
              "    </tr>\n",
              "    <tr>\n",
              "      <th id=\"T_c892c_level0_row9\" class=\"row_heading level0 row9\" >9</th>\n",
              "      <td id=\"T_c892c_row9_col0\" class=\"data row9 col0\" >Categorical features</td>\n",
              "      <td id=\"T_c892c_row9_col1\" class=\"data row9 col1\" >17</td>\n",
              "    </tr>\n",
              "    <tr>\n",
              "      <th id=\"T_c892c_level0_row10\" class=\"row_heading level0 row10\" >10</th>\n",
              "      <td id=\"T_c892c_row10_col0\" class=\"data row10 col0\" >Rows with missing values</td>\n",
              "      <td id=\"T_c892c_row10_col1\" class=\"data row10 col1\" >1.1%</td>\n",
              "    </tr>\n",
              "    <tr>\n",
              "      <th id=\"T_c892c_level0_row11\" class=\"row_heading level0 row11\" >11</th>\n",
              "      <td id=\"T_c892c_row11_col0\" class=\"data row11 col0\" >Preprocess</td>\n",
              "      <td id=\"T_c892c_row11_col1\" class=\"data row11 col1\" >True</td>\n",
              "    </tr>\n",
              "    <tr>\n",
              "      <th id=\"T_c892c_level0_row12\" class=\"row_heading level0 row12\" >12</th>\n",
              "      <td id=\"T_c892c_row12_col0\" class=\"data row12 col0\" >Imputation type</td>\n",
              "      <td id=\"T_c892c_row12_col1\" class=\"data row12 col1\" >simple</td>\n",
              "    </tr>\n",
              "    <tr>\n",
              "      <th id=\"T_c892c_level0_row13\" class=\"row_heading level0 row13\" >13</th>\n",
              "      <td id=\"T_c892c_row13_col0\" class=\"data row13 col0\" >Numeric imputation</td>\n",
              "      <td id=\"T_c892c_row13_col1\" class=\"data row13 col1\" >mean</td>\n",
              "    </tr>\n",
              "    <tr>\n",
              "      <th id=\"T_c892c_level0_row14\" class=\"row_heading level0 row14\" >14</th>\n",
              "      <td id=\"T_c892c_row14_col0\" class=\"data row14 col0\" >Categorical imputation</td>\n",
              "      <td id=\"T_c892c_row14_col1\" class=\"data row14 col1\" >mode</td>\n",
              "    </tr>\n",
              "    <tr>\n",
              "      <th id=\"T_c892c_level0_row15\" class=\"row_heading level0 row15\" >15</th>\n",
              "      <td id=\"T_c892c_row15_col0\" class=\"data row15 col0\" >Maximum one-hot encoding</td>\n",
              "      <td id=\"T_c892c_row15_col1\" class=\"data row15 col1\" >25</td>\n",
              "    </tr>\n",
              "    <tr>\n",
              "      <th id=\"T_c892c_level0_row16\" class=\"row_heading level0 row16\" >16</th>\n",
              "      <td id=\"T_c892c_row16_col0\" class=\"data row16 col0\" >Encoding method</td>\n",
              "      <td id=\"T_c892c_row16_col1\" class=\"data row16 col1\" >None</td>\n",
              "    </tr>\n",
              "    <tr>\n",
              "      <th id=\"T_c892c_level0_row17\" class=\"row_heading level0 row17\" >17</th>\n",
              "      <td id=\"T_c892c_row17_col0\" class=\"data row17 col0\" >Fold Generator</td>\n",
              "      <td id=\"T_c892c_row17_col1\" class=\"data row17 col1\" >StratifiedKFold</td>\n",
              "    </tr>\n",
              "    <tr>\n",
              "      <th id=\"T_c892c_level0_row18\" class=\"row_heading level0 row18\" >18</th>\n",
              "      <td id=\"T_c892c_row18_col0\" class=\"data row18 col0\" >Fold Number</td>\n",
              "      <td id=\"T_c892c_row18_col1\" class=\"data row18 col1\" >10</td>\n",
              "    </tr>\n",
              "    <tr>\n",
              "      <th id=\"T_c892c_level0_row19\" class=\"row_heading level0 row19\" >19</th>\n",
              "      <td id=\"T_c892c_row19_col0\" class=\"data row19 col0\" >CPU Jobs</td>\n",
              "      <td id=\"T_c892c_row19_col1\" class=\"data row19 col1\" >-1</td>\n",
              "    </tr>\n",
              "    <tr>\n",
              "      <th id=\"T_c892c_level0_row20\" class=\"row_heading level0 row20\" >20</th>\n",
              "      <td id=\"T_c892c_row20_col0\" class=\"data row20 col0\" >Use GPU</td>\n",
              "      <td id=\"T_c892c_row20_col1\" class=\"data row20 col1\" >False</td>\n",
              "    </tr>\n",
              "    <tr>\n",
              "      <th id=\"T_c892c_level0_row21\" class=\"row_heading level0 row21\" >21</th>\n",
              "      <td id=\"T_c892c_row21_col0\" class=\"data row21 col0\" >Log Experiment</td>\n",
              "      <td id=\"T_c892c_row21_col1\" class=\"data row21 col1\" >False</td>\n",
              "    </tr>\n",
              "    <tr>\n",
              "      <th id=\"T_c892c_level0_row22\" class=\"row_heading level0 row22\" >22</th>\n",
              "      <td id=\"T_c892c_row22_col0\" class=\"data row22 col0\" >Experiment Name</td>\n",
              "      <td id=\"T_c892c_row22_col1\" class=\"data row22 col1\" >clf-default-name</td>\n",
              "    </tr>\n",
              "    <tr>\n",
              "      <th id=\"T_c892c_level0_row23\" class=\"row_heading level0 row23\" >23</th>\n",
              "      <td id=\"T_c892c_row23_col0\" class=\"data row23 col0\" >USI</td>\n",
              "      <td id=\"T_c892c_row23_col1\" class=\"data row23 col1\" >5b29</td>\n",
              "    </tr>\n",
              "  </tbody>\n",
              "</table>\n"
            ]
          },
          "metadata": {}
        }
      ],
      "source": [
        "s = setup(data,target='Default')"
      ],
      "id": "94b62ec9"
    },
    {
      "cell_type": "code",
      "execution_count": 12,
      "metadata": {
        "id": "85db2625",
        "colab": {
          "base_uri": "https://localhost:8080/",
          "height": 488,
          "referenced_widgets": [
            "e52a6548371d483ea39574e97fc37bc1",
            "a72be38f39e2466aa4345187004508ed",
            "6f48295b3abb43a09a2d32fb1819e8a6",
            "a4f20ba50cf94a05819c73ee8e76e3ab",
            "76e23834beee4d08b3477be10ad1a487",
            "6bf58bf2f168448981885de216a8c349",
            "26af3d7093f844a090dd9fe65fb9ecc0",
            "2de5bc272207409c93e48c325c2a3cfa",
            "cc70301edae94174a79bdaabad1ed958",
            "92e9aae4c7ce45d8869f9bb24348c8a9",
            "b3ac487a4b1e49b5b135e70d6c210bc6"
          ]
        },
        "outputId": "6eb219af-183c-44e3-8dc9-46e541d3f1e5"
      },
      "outputs": [
        {
          "output_type": "display_data",
          "data": {
            "text/plain": [
              "<IPython.core.display.HTML object>"
            ],
            "text/html": []
          },
          "metadata": {}
        },
        {
          "output_type": "display_data",
          "data": {
            "text/plain": [
              "<pandas.io.formats.style.Styler at 0x7f36f3408130>"
            ],
            "text/html": [
              "<style type=\"text/css\">\n",
              "#T_e4b47_ th {\n",
              "  text-align: left;\n",
              "}\n",
              "#T_e4b47_row0_col0, #T_e4b47_row0_col3, #T_e4b47_row0_col4, #T_e4b47_row1_col0, #T_e4b47_row1_col1, #T_e4b47_row1_col3, #T_e4b47_row1_col4, #T_e4b47_row1_col5, #T_e4b47_row1_col6, #T_e4b47_row1_col7, #T_e4b47_row2_col0, #T_e4b47_row2_col1, #T_e4b47_row2_col2, #T_e4b47_row2_col3, #T_e4b47_row2_col4, #T_e4b47_row2_col5, #T_e4b47_row2_col6, #T_e4b47_row2_col7, #T_e4b47_row3_col0, #T_e4b47_row3_col1, #T_e4b47_row3_col2, #T_e4b47_row3_col3, #T_e4b47_row3_col4, #T_e4b47_row3_col5, #T_e4b47_row3_col6, #T_e4b47_row3_col7, #T_e4b47_row4_col0, #T_e4b47_row4_col1, #T_e4b47_row4_col2, #T_e4b47_row4_col3, #T_e4b47_row4_col4, #T_e4b47_row4_col5, #T_e4b47_row4_col6, #T_e4b47_row4_col7, #T_e4b47_row5_col0, #T_e4b47_row5_col1, #T_e4b47_row5_col2, #T_e4b47_row5_col3, #T_e4b47_row5_col4, #T_e4b47_row5_col5, #T_e4b47_row5_col6, #T_e4b47_row5_col7, #T_e4b47_row6_col0, #T_e4b47_row6_col1, #T_e4b47_row6_col2, #T_e4b47_row6_col3, #T_e4b47_row6_col4, #T_e4b47_row6_col5, #T_e4b47_row6_col6, #T_e4b47_row6_col7, #T_e4b47_row7_col0, #T_e4b47_row7_col1, #T_e4b47_row7_col2, #T_e4b47_row7_col3, #T_e4b47_row7_col5, #T_e4b47_row7_col6, #T_e4b47_row7_col7, #T_e4b47_row8_col0, #T_e4b47_row8_col1, #T_e4b47_row8_col2, #T_e4b47_row8_col3, #T_e4b47_row8_col4, #T_e4b47_row8_col5, #T_e4b47_row8_col6, #T_e4b47_row8_col7, #T_e4b47_row9_col0, #T_e4b47_row9_col1, #T_e4b47_row9_col2, #T_e4b47_row9_col3, #T_e4b47_row9_col4, #T_e4b47_row9_col5, #T_e4b47_row9_col6, #T_e4b47_row9_col7, #T_e4b47_row10_col0, #T_e4b47_row10_col1, #T_e4b47_row10_col2, #T_e4b47_row10_col3, #T_e4b47_row10_col4, #T_e4b47_row10_col5, #T_e4b47_row10_col6, #T_e4b47_row10_col7, #T_e4b47_row11_col0, #T_e4b47_row11_col1, #T_e4b47_row11_col2, #T_e4b47_row11_col3, #T_e4b47_row11_col4, #T_e4b47_row11_col5, #T_e4b47_row11_col6, #T_e4b47_row11_col7, #T_e4b47_row12_col0, #T_e4b47_row12_col1, #T_e4b47_row12_col2, #T_e4b47_row12_col3, #T_e4b47_row12_col4, #T_e4b47_row12_col5, #T_e4b47_row12_col6, #T_e4b47_row12_col7, #T_e4b47_row13_col0, #T_e4b47_row13_col1, #T_e4b47_row13_col2, #T_e4b47_row13_col4, #T_e4b47_row13_col5, #T_e4b47_row13_col6, #T_e4b47_row13_col7 {\n",
              "  text-align: left;\n",
              "}\n",
              "#T_e4b47_row0_col1, #T_e4b47_row0_col2, #T_e4b47_row0_col5, #T_e4b47_row0_col6, #T_e4b47_row0_col7, #T_e4b47_row1_col2, #T_e4b47_row7_col4, #T_e4b47_row13_col3 {\n",
              "  text-align: left;\n",
              "  background-color: yellow;\n",
              "}\n",
              "#T_e4b47_row0_col8, #T_e4b47_row1_col8, #T_e4b47_row2_col8, #T_e4b47_row3_col8, #T_e4b47_row4_col8, #T_e4b47_row6_col8, #T_e4b47_row7_col8, #T_e4b47_row8_col8, #T_e4b47_row9_col8, #T_e4b47_row10_col8, #T_e4b47_row11_col8, #T_e4b47_row12_col8, #T_e4b47_row13_col8 {\n",
              "  text-align: left;\n",
              "  background-color: lightgrey;\n",
              "}\n",
              "#T_e4b47_row5_col8 {\n",
              "  text-align: left;\n",
              "  background-color: yellow;\n",
              "  background-color: lightgrey;\n",
              "}\n",
              "</style>\n",
              "<table id=\"T_e4b47_\" class=\"dataframe\">\n",
              "  <thead>\n",
              "    <tr>\n",
              "      <th class=\"blank level0\" >&nbsp;</th>\n",
              "      <th class=\"col_heading level0 col0\" >Model</th>\n",
              "      <th class=\"col_heading level0 col1\" >Accuracy</th>\n",
              "      <th class=\"col_heading level0 col2\" >AUC</th>\n",
              "      <th class=\"col_heading level0 col3\" >Recall</th>\n",
              "      <th class=\"col_heading level0 col4\" >Prec.</th>\n",
              "      <th class=\"col_heading level0 col5\" >F1</th>\n",
              "      <th class=\"col_heading level0 col6\" >Kappa</th>\n",
              "      <th class=\"col_heading level0 col7\" >MCC</th>\n",
              "      <th class=\"col_heading level0 col8\" >TT (Sec)</th>\n",
              "    </tr>\n",
              "  </thead>\n",
              "  <tbody>\n",
              "    <tr>\n",
              "      <th id=\"T_e4b47_level0_row0\" class=\"row_heading level0 row0\" >et</th>\n",
              "      <td id=\"T_e4b47_row0_col0\" class=\"data row0 col0\" >Extra Trees Classifier</td>\n",
              "      <td id=\"T_e4b47_row0_col1\" class=\"data row0 col1\" >0.9940</td>\n",
              "      <td id=\"T_e4b47_row0_col2\" class=\"data row0 col2\" >0.9965</td>\n",
              "      <td id=\"T_e4b47_row0_col3\" class=\"data row0 col3\" >0.9958</td>\n",
              "      <td id=\"T_e4b47_row0_col4\" class=\"data row0 col4\" >0.9826</td>\n",
              "      <td id=\"T_e4b47_row0_col5\" class=\"data row0 col5\" >0.9892</td>\n",
              "      <td id=\"T_e4b47_row0_col6\" class=\"data row0 col6\" >0.9850</td>\n",
              "      <td id=\"T_e4b47_row0_col7\" class=\"data row0 col7\" >0.9850</td>\n",
              "      <td id=\"T_e4b47_row0_col8\" class=\"data row0 col8\" >15.0390</td>\n",
              "    </tr>\n",
              "    <tr>\n",
              "      <th id=\"T_e4b47_level0_row1\" class=\"row_heading level0 row1\" >rf</th>\n",
              "      <td id=\"T_e4b47_row1_col0\" class=\"data row1 col0\" >Random Forest Classifier</td>\n",
              "      <td id=\"T_e4b47_row1_col1\" class=\"data row1 col1\" >0.9865</td>\n",
              "      <td id=\"T_e4b47_row1_col2\" class=\"data row1 col2\" >0.9965</td>\n",
              "      <td id=\"T_e4b47_row1_col3\" class=\"data row1 col3\" >0.9684</td>\n",
              "      <td id=\"T_e4b47_row1_col4\" class=\"data row1 col4\" >0.9828</td>\n",
              "      <td id=\"T_e4b47_row1_col5\" class=\"data row1 col5\" >0.9755</td>\n",
              "      <td id=\"T_e4b47_row1_col6\" class=\"data row1 col6\" >0.9662</td>\n",
              "      <td id=\"T_e4b47_row1_col7\" class=\"data row1 col7\" >0.9663</td>\n",
              "      <td id=\"T_e4b47_row1_col8\" class=\"data row1 col8\" >15.7510</td>\n",
              "    </tr>\n",
              "    <tr>\n",
              "      <th id=\"T_e4b47_level0_row2\" class=\"row_heading level0 row2\" >gbc</th>\n",
              "      <td id=\"T_e4b47_row2_col0\" class=\"data row2 col0\" >Gradient Boosting Classifier</td>\n",
              "      <td id=\"T_e4b47_row2_col1\" class=\"data row2 col1\" >0.9411</td>\n",
              "      <td id=\"T_e4b47_row2_col2\" class=\"data row2 col2\" >0.9949</td>\n",
              "      <td id=\"T_e4b47_row2_col3\" class=\"data row2 col3\" >0.8009</td>\n",
              "      <td id=\"T_e4b47_row2_col4\" class=\"data row2 col4\" >0.9836</td>\n",
              "      <td id=\"T_e4b47_row2_col5\" class=\"data row2 col5\" >0.8827</td>\n",
              "      <td id=\"T_e4b47_row2_col6\" class=\"data row2 col6\" >0.8440</td>\n",
              "      <td id=\"T_e4b47_row2_col7\" class=\"data row2 col7\" >0.8521</td>\n",
              "      <td id=\"T_e4b47_row2_col8\" class=\"data row2 col8\" >23.0580</td>\n",
              "    </tr>\n",
              "    <tr>\n",
              "      <th id=\"T_e4b47_level0_row3\" class=\"row_heading level0 row3\" >ada</th>\n",
              "      <td id=\"T_e4b47_row3_col0\" class=\"data row3 col0\" >Ada Boost Classifier</td>\n",
              "      <td id=\"T_e4b47_row3_col1\" class=\"data row3 col1\" >0.9382</td>\n",
              "      <td id=\"T_e4b47_row3_col2\" class=\"data row3 col2\" >0.9930</td>\n",
              "      <td id=\"T_e4b47_row3_col3\" class=\"data row3 col3\" >0.7924</td>\n",
              "      <td id=\"T_e4b47_row3_col4\" class=\"data row3 col4\" >0.9810</td>\n",
              "      <td id=\"T_e4b47_row3_col5\" class=\"data row3 col5\" >0.8764</td>\n",
              "      <td id=\"T_e4b47_row3_col6\" class=\"data row3 col6\" >0.8358</td>\n",
              "      <td id=\"T_e4b47_row3_col7\" class=\"data row3 col7\" >0.8445</td>\n",
              "      <td id=\"T_e4b47_row3_col8\" class=\"data row3 col8\" >13.2340</td>\n",
              "    </tr>\n",
              "    <tr>\n",
              "      <th id=\"T_e4b47_level0_row4\" class=\"row_heading level0 row4\" >lda</th>\n",
              "      <td id=\"T_e4b47_row4_col0\" class=\"data row4 col0\" >Linear Discriminant Analysis</td>\n",
              "      <td id=\"T_e4b47_row4_col1\" class=\"data row4 col1\" >0.9207</td>\n",
              "      <td id=\"T_e4b47_row4_col2\" class=\"data row4 col2\" >0.9950</td>\n",
              "      <td id=\"T_e4b47_row4_col3\" class=\"data row4 col3\" >0.7267</td>\n",
              "      <td id=\"T_e4b47_row4_col4\" class=\"data row4 col4\" >0.9825</td>\n",
              "      <td id=\"T_e4b47_row4_col5\" class=\"data row4 col5\" >0.8355</td>\n",
              "      <td id=\"T_e4b47_row4_col6\" class=\"data row4 col6\" >0.7847</td>\n",
              "      <td id=\"T_e4b47_row4_col7\" class=\"data row4 col7\" >0.8002</td>\n",
              "      <td id=\"T_e4b47_row4_col8\" class=\"data row4 col8\" >10.0520</td>\n",
              "    </tr>\n",
              "    <tr>\n",
              "      <th id=\"T_e4b47_level0_row5\" class=\"row_heading level0 row5\" >ridge</th>\n",
              "      <td id=\"T_e4b47_row5_col0\" class=\"data row5 col0\" >Ridge Classifier</td>\n",
              "      <td id=\"T_e4b47_row5_col1\" class=\"data row5 col1\" >0.9114</td>\n",
              "      <td id=\"T_e4b47_row5_col2\" class=\"data row5 col2\" >0.0000</td>\n",
              "      <td id=\"T_e4b47_row5_col3\" class=\"data row5 col3\" >0.6927</td>\n",
              "      <td id=\"T_e4b47_row5_col4\" class=\"data row5 col4\" >0.9825</td>\n",
              "      <td id=\"T_e4b47_row5_col5\" class=\"data row5 col5\" >0.8125</td>\n",
              "      <td id=\"T_e4b47_row5_col6\" class=\"data row5 col6\" >0.7567</td>\n",
              "      <td id=\"T_e4b47_row5_col7\" class=\"data row5 col7\" >0.7766</td>\n",
              "      <td id=\"T_e4b47_row5_col8\" class=\"data row5 col8\" >8.2670</td>\n",
              "    </tr>\n",
              "    <tr>\n",
              "      <th id=\"T_e4b47_level0_row6\" class=\"row_heading level0 row6\" >dt</th>\n",
              "      <td id=\"T_e4b47_row6_col0\" class=\"data row6 col0\" >Decision Tree Classifier</td>\n",
              "      <td id=\"T_e4b47_row6_col1\" class=\"data row6 col1\" >0.8717</td>\n",
              "      <td id=\"T_e4b47_row6_col2\" class=\"data row6 col2\" >0.7718</td>\n",
              "      <td id=\"T_e4b47_row6_col3\" class=\"data row6 col3\" >0.5475</td>\n",
              "      <td id=\"T_e4b47_row6_col4\" class=\"data row6 col4\" >0.9819</td>\n",
              "      <td id=\"T_e4b47_row6_col5\" class=\"data row6 col5\" >0.7018</td>\n",
              "      <td id=\"T_e4b47_row6_col6\" class=\"data row6 col6\" >0.6287</td>\n",
              "      <td id=\"T_e4b47_row6_col7\" class=\"data row6 col7\" >0.6728</td>\n",
              "      <td id=\"T_e4b47_row6_col8\" class=\"data row6 col8\" >10.0530</td>\n",
              "    </tr>\n",
              "    <tr>\n",
              "      <th id=\"T_e4b47_level0_row7\" class=\"row_heading level0 row7\" >lightgbm</th>\n",
              "      <td id=\"T_e4b47_row7_col0\" class=\"data row7 col0\" >Light Gradient Boosting Machine</td>\n",
              "      <td id=\"T_e4b47_row7_col1\" class=\"data row7 col1\" >0.8455</td>\n",
              "      <td id=\"T_e4b47_row7_col2\" class=\"data row7 col2\" >0.9946</td>\n",
              "      <td id=\"T_e4b47_row7_col3\" class=\"data row7 col3\" >0.4497</td>\n",
              "      <td id=\"T_e4b47_row7_col4\" class=\"data row7 col4\" >0.9849</td>\n",
              "      <td id=\"T_e4b47_row7_col5\" class=\"data row7 col5\" >0.6153</td>\n",
              "      <td id=\"T_e4b47_row7_col6\" class=\"data row7 col6\" >0.5357</td>\n",
              "      <td id=\"T_e4b47_row7_col7\" class=\"data row7 col7\" >0.6010</td>\n",
              "      <td id=\"T_e4b47_row7_col8\" class=\"data row7 col8\" >10.7740</td>\n",
              "    </tr>\n",
              "    <tr>\n",
              "      <th id=\"T_e4b47_level0_row8\" class=\"row_heading level0 row8\" >lr</th>\n",
              "      <td id=\"T_e4b47_row8_col0\" class=\"data row8 col0\" >Logistic Regression</td>\n",
              "      <td id=\"T_e4b47_row8_col1\" class=\"data row8 col1\" >0.7228</td>\n",
              "      <td id=\"T_e4b47_row8_col2\" class=\"data row8 col2\" >0.6383</td>\n",
              "      <td id=\"T_e4b47_row8_col3\" class=\"data row8 col3\" >0.0000</td>\n",
              "      <td id=\"T_e4b47_row8_col4\" class=\"data row8 col4\" >0.0000</td>\n",
              "      <td id=\"T_e4b47_row8_col5\" class=\"data row8 col5\" >0.0000</td>\n",
              "      <td id=\"T_e4b47_row8_col6\" class=\"data row8 col6\" >0.0000</td>\n",
              "      <td id=\"T_e4b47_row8_col7\" class=\"data row8 col7\" >0.0000</td>\n",
              "      <td id=\"T_e4b47_row8_col8\" class=\"data row8 col8\" >10.9770</td>\n",
              "    </tr>\n",
              "    <tr>\n",
              "      <th id=\"T_e4b47_level0_row9\" class=\"row_heading level0 row9\" >nb</th>\n",
              "      <td id=\"T_e4b47_row9_col0\" class=\"data row9 col0\" >Naive Bayes</td>\n",
              "      <td id=\"T_e4b47_row9_col1\" class=\"data row9 col1\" >0.7228</td>\n",
              "      <td id=\"T_e4b47_row9_col2\" class=\"data row9 col2\" >0.6570</td>\n",
              "      <td id=\"T_e4b47_row9_col3\" class=\"data row9 col3\" >0.0000</td>\n",
              "      <td id=\"T_e4b47_row9_col4\" class=\"data row9 col4\" >0.0000</td>\n",
              "      <td id=\"T_e4b47_row9_col5\" class=\"data row9 col5\" >0.0000</td>\n",
              "      <td id=\"T_e4b47_row9_col6\" class=\"data row9 col6\" >0.0000</td>\n",
              "      <td id=\"T_e4b47_row9_col7\" class=\"data row9 col7\" >0.0000</td>\n",
              "      <td id=\"T_e4b47_row9_col8\" class=\"data row9 col8\" >10.0600</td>\n",
              "    </tr>\n",
              "    <tr>\n",
              "      <th id=\"T_e4b47_level0_row10\" class=\"row_heading level0 row10\" >dummy</th>\n",
              "      <td id=\"T_e4b47_row10_col0\" class=\"data row10 col0\" >Dummy Classifier</td>\n",
              "      <td id=\"T_e4b47_row10_col1\" class=\"data row10 col1\" >0.7228</td>\n",
              "      <td id=\"T_e4b47_row10_col2\" class=\"data row10 col2\" >0.5000</td>\n",
              "      <td id=\"T_e4b47_row10_col3\" class=\"data row10 col3\" >0.0000</td>\n",
              "      <td id=\"T_e4b47_row10_col4\" class=\"data row10 col4\" >0.0000</td>\n",
              "      <td id=\"T_e4b47_row10_col5\" class=\"data row10 col5\" >0.0000</td>\n",
              "      <td id=\"T_e4b47_row10_col6\" class=\"data row10 col6\" >0.0000</td>\n",
              "      <td id=\"T_e4b47_row10_col7\" class=\"data row10 col7\" >0.0000</td>\n",
              "      <td id=\"T_e4b47_row10_col8\" class=\"data row10 col8\" >9.5850</td>\n",
              "    </tr>\n",
              "    <tr>\n",
              "      <th id=\"T_e4b47_level0_row11\" class=\"row_heading level0 row11\" >svm</th>\n",
              "      <td id=\"T_e4b47_row11_col0\" class=\"data row11 col0\" >SVM - Linear Kernel</td>\n",
              "      <td id=\"T_e4b47_row11_col1\" class=\"data row11 col1\" >0.7196</td>\n",
              "      <td id=\"T_e4b47_row11_col2\" class=\"data row11 col2\" >0.0000</td>\n",
              "      <td id=\"T_e4b47_row11_col3\" class=\"data row11 col3\" >0.0430</td>\n",
              "      <td id=\"T_e4b47_row11_col4\" class=\"data row11 col4\" >0.0440</td>\n",
              "      <td id=\"T_e4b47_row11_col5\" class=\"data row11 col5\" >0.0435</td>\n",
              "      <td id=\"T_e4b47_row11_col6\" class=\"data row11 col6\" >0.0221</td>\n",
              "      <td id=\"T_e4b47_row11_col7\" class=\"data row11 col7\" >0.0221</td>\n",
              "      <td id=\"T_e4b47_row11_col8\" class=\"data row11 col8\" >13.6340</td>\n",
              "    </tr>\n",
              "    <tr>\n",
              "      <th id=\"T_e4b47_level0_row12\" class=\"row_heading level0 row12\" >knn</th>\n",
              "      <td id=\"T_e4b47_row12_col0\" class=\"data row12 col0\" >K Neighbors Classifier</td>\n",
              "      <td id=\"T_e4b47_row12_col1\" class=\"data row12 col1\" >0.6905</td>\n",
              "      <td id=\"T_e4b47_row12_col2\" class=\"data row12 col2\" >0.6188</td>\n",
              "      <td id=\"T_e4b47_row12_col3\" class=\"data row12 col3\" >0.2909</td>\n",
              "      <td id=\"T_e4b47_row12_col4\" class=\"data row12 col4\" >0.4165</td>\n",
              "      <td id=\"T_e4b47_row12_col5\" class=\"data row12 col5\" >0.3426</td>\n",
              "      <td id=\"T_e4b47_row12_col6\" class=\"data row12 col6\" >0.1484</td>\n",
              "      <td id=\"T_e4b47_row12_col7\" class=\"data row12 col7\" >0.1525</td>\n",
              "      <td id=\"T_e4b47_row12_col8\" class=\"data row12 col8\" >26.8270</td>\n",
              "    </tr>\n",
              "    <tr>\n",
              "      <th id=\"T_e4b47_level0_row13\" class=\"row_heading level0 row13\" >qda</th>\n",
              "      <td id=\"T_e4b47_row13_col0\" class=\"data row13 col0\" >Quadratic Discriminant Analysis</td>\n",
              "      <td id=\"T_e4b47_row13_col1\" class=\"data row13 col1\" >0.2773</td>\n",
              "      <td id=\"T_e4b47_row13_col2\" class=\"data row13 col2\" >0.5001</td>\n",
              "      <td id=\"T_e4b47_row13_col3\" class=\"data row13 col3\" >1.0000</td>\n",
              "      <td id=\"T_e4b47_row13_col4\" class=\"data row13 col4\" >0.2772</td>\n",
              "      <td id=\"T_e4b47_row13_col5\" class=\"data row13 col5\" >0.4341</td>\n",
              "      <td id=\"T_e4b47_row13_col6\" class=\"data row13 col6\" >0.0000</td>\n",
              "      <td id=\"T_e4b47_row13_col7\" class=\"data row13 col7\" >0.0018</td>\n",
              "      <td id=\"T_e4b47_row13_col8\" class=\"data row13 col8\" >9.8110</td>\n",
              "    </tr>\n",
              "  </tbody>\n",
              "</table>\n"
            ]
          },
          "metadata": {}
        },
        {
          "output_type": "display_data",
          "data": {
            "text/plain": [
              "Processing:   0%|          | 0/61 [00:00<?, ?it/s]"
            ],
            "application/vnd.jupyter.widget-view+json": {
              "version_major": 2,
              "version_minor": 0,
              "model_id": "e52a6548371d483ea39574e97fc37bc1"
            }
          },
          "metadata": {
            "application/vnd.jupyter.widget-view+json": {
              "colab": {
                "custom_widget_manager": {
                  "url": "https://ssl.gstatic.com/colaboratory-static/widgets/colab-cdn-widget-manager/b3e629b1971e1542/manager.min.js"
                }
              }
            }
          }
        },
        {
          "output_type": "display_data",
          "data": {
            "text/plain": [
              "<IPython.core.display.HTML object>"
            ],
            "text/html": []
          },
          "metadata": {}
        }
      ],
      "source": [
        "best=compare_models()"
      ],
      "id": "85db2625"
    },
    {
      "cell_type": "code",
      "execution_count": null,
      "metadata": {
        "id": "3c879ce9",
        "scrolled": true
      },
      "outputs": [],
      "source": [
        "evaluate_model(best)"
      ],
      "id": "3c879ce9"
    },
    {
      "cell_type": "code",
      "execution_count": null,
      "metadata": {
        "id": "ec084974"
      },
      "outputs": [],
      "source": [
        "data.Default.value_counts()"
      ],
      "id": "ec084974"
    },
    {
      "cell_type": "code",
      "execution_count": null,
      "metadata": {
        "id": "a188de6d"
      },
      "outputs": [],
      "source": [
        "pp=predict_model(best,data=test)"
      ],
      "id": "a188de6d"
    },
    {
      "cell_type": "code",
      "execution_count": null,
      "metadata": {
        "id": "7e526992"
      },
      "outputs": [],
      "source": [
        "test.shape"
      ],
      "id": "7e526992"
    },
    {
      "cell_type": "code",
      "execution_count": null,
      "metadata": {
        "id": "6e07a7d8"
      },
      "outputs": [],
      "source": [
        "ssp=predict_model(best,data=test)"
      ],
      "id": "6e07a7d8"
    },
    {
      "cell_type": "code",
      "execution_count": null,
      "metadata": {
        "id": "ac1f6f29"
      },
      "outputs": [],
      "source": [
        "ssp.to_csv('predict.csv')"
      ],
      "id": "ac1f6f29"
    },
    {
      "cell_type": "code",
      "execution_count": null,
      "metadata": {
        "id": "0f20bd99"
      },
      "outputs": [],
      "source": [
        "ssp.to_csv('base_predict.csv')"
      ],
      "id": "0f20bd99"
    },
    {
      "cell_type": "code",
      "execution_count": null,
      "metadata": {
        "id": "b3a042fa"
      },
      "outputs": [],
      "source": [
        "a=ssp.prediction_label"
      ],
      "id": "b3a042fa"
    },
    {
      "cell_type": "code",
      "execution_count": null,
      "metadata": {
        "id": "0a2f35d4"
      },
      "outputs": [],
      "source": [
        "default=pd.DataFrame(a)"
      ],
      "id": "0a2f35d4"
    },
    {
      "cell_type": "code",
      "execution_count": null,
      "metadata": {
        "id": "e2bc45ad"
      },
      "outputs": [],
      "source": [
        "check=pd.concat([test,default],axis=1)"
      ],
      "id": "e2bc45ad"
    },
    {
      "cell_type": "code",
      "execution_count": null,
      "metadata": {
        "id": "9ef1200a"
      },
      "outputs": [],
      "source": [
        "check.reset_index(drop=True,inplace=True)"
      ],
      "id": "9ef1200a"
    },
    {
      "cell_type": "code",
      "execution_count": null,
      "metadata": {
        "id": "5fd1e90a"
      },
      "outputs": [],
      "source": [
        "data.columns"
      ],
      "id": "5fd1e90a"
    },
    {
      "cell_type": "code",
      "execution_count": null,
      "metadata": {
        "id": "b15903b6"
      },
      "outputs": [],
      "source": [
        "data['ChargedOff_Amount '].shape"
      ],
      "id": "b15903b6"
    },
    {
      "cell_type": "code",
      "execution_count": null,
      "metadata": {
        "id": "2ddadb63",
        "scrolled": true
      },
      "outputs": [],
      "source": [
        "data[data['ChargedOff_Amount ']=='Rs.0.0'].Default.value_counts"
      ],
      "id": "2ddadb63"
    },
    {
      "cell_type": "code",
      "execution_count": null,
      "metadata": {
        "id": "e6caaa3b"
      },
      "outputs": [],
      "source": [
        "check[check['ChargedOff_Amount ']=='Rs.0.0'].prediction_label.value_counts()"
      ],
      "id": "e6caaa3b"
    },
    {
      "cell_type": "code",
      "execution_count": null,
      "metadata": {
        "id": "a24805f3"
      },
      "outputs": [],
      "source": [
        "data.Default.value_counts()"
      ],
      "id": "a24805f3"
    },
    {
      "cell_type": "code",
      "execution_count": null,
      "metadata": {
        "id": "e2516a32"
      },
      "outputs": [],
      "source": [
        "check.prediction_label.value_counts()"
      ],
      "id": "e2516a32"
    },
    {
      "cell_type": "code",
      "execution_count": null,
      "metadata": {
        "id": "f92f205c"
      },
      "outputs": [],
      "source": [
        "newtrain=data.drop('Default',axis=1)"
      ],
      "id": "f92f205c"
    },
    {
      "cell_type": "code",
      "execution_count": null,
      "metadata": {
        "id": "15a670ae"
      },
      "outputs": [],
      "source": [
        "newtest=check.drop('prediction_label',axis=1)"
      ],
      "id": "15a670ae"
    },
    {
      "cell_type": "code",
      "execution_count": null,
      "metadata": {
        "id": "873739c5"
      },
      "outputs": [],
      "source": [
        "data.head()"
      ],
      "id": "873739c5"
    },
    {
      "cell_type": "code",
      "execution_count": null,
      "metadata": {
        "id": "3d52b876"
      },
      "outputs": [],
      "source": [
        "data[data.duplicated()]"
      ],
      "id": "3d52b876"
    },
    {
      "cell_type": "code",
      "execution_count": null,
      "metadata": {
        "id": "5f983353"
      },
      "outputs": [],
      "source": [
        "A=newtrain['ChargedOff_Amount ']"
      ],
      "id": "5f983353"
    },
    {
      "cell_type": "code",
      "execution_count": null,
      "metadata": {
        "id": "936a1bf7"
      },
      "outputs": [],
      "source": [
        "B=newtest['ChargedOff_Amount ']"
      ],
      "id": "936a1bf7"
    },
    {
      "cell_type": "code",
      "execution_count": null,
      "metadata": {
        "id": "82d38747"
      },
      "outputs": [],
      "source": [
        "aa=pd.DataFrame(A)"
      ],
      "id": "82d38747"
    },
    {
      "cell_type": "code",
      "execution_count": null,
      "metadata": {
        "id": "50f0ecb6"
      },
      "outputs": [],
      "source": [
        "bb=pd.DataFrame(B)"
      ],
      "id": "50f0ecb6"
    },
    {
      "cell_type": "code",
      "execution_count": null,
      "metadata": {
        "id": "832d45bf"
      },
      "outputs": [],
      "source": [
        "cc=pd.concat([aa,bb],axis=1)"
      ],
      "id": "832d45bf"
    },
    {
      "cell_type": "code",
      "execution_count": null,
      "metadata": {
        "id": "a4eb4f4e"
      },
      "outputs": [],
      "source": [
        "cc"
      ],
      "id": "a4eb4f4e"
    },
    {
      "cell_type": "code",
      "execution_count": null,
      "metadata": {
        "id": "89ac8595"
      },
      "outputs": [],
      "source": [
        "data.head()"
      ],
      "id": "89ac8595"
    },
    {
      "cell_type": "code",
      "execution_count": null,
      "metadata": {
        "id": "31faa0cd"
      },
      "outputs": [],
      "source": [
        "data.info()"
      ],
      "id": "31faa0cd"
    },
    {
      "cell_type": "code",
      "execution_count": null,
      "metadata": {
        "id": "332d4422"
      },
      "outputs": [],
      "source": [
        "data['Guaranteed_Approved _Loan'] = data['Guaranteed_Approved _Loan'].str.split('Rs.').str[1]"
      ],
      "id": "332d4422"
    },
    {
      "cell_type": "code",
      "execution_count": null,
      "metadata": {
        "id": "66453eb1"
      },
      "outputs": [],
      "source": [
        "import numpy as np"
      ],
      "id": "66453eb1"
    },
    {
      "cell_type": "code",
      "execution_count": null,
      "metadata": {
        "id": "9e73158e"
      },
      "outputs": [],
      "source": [
        "data['Guaranteed_Approved _Loan']=data['Guaranteed_Approved _Loan'].astype(np.float64)"
      ],
      "id": "9e73158e"
    },
    {
      "cell_type": "code",
      "execution_count": null,
      "metadata": {
        "id": "e5fbec18"
      },
      "outputs": [],
      "source": [
        "data['ChargedOff_Amount '] = data['ChargedOff_Amount '].str.split('Rs.').str[1]"
      ],
      "id": "e5fbec18"
    },
    {
      "cell_type": "code",
      "execution_count": null,
      "metadata": {
        "id": "ed6eddf2"
      },
      "outputs": [],
      "source": [
        "data['ChargedOff_Amount ']=data['ChargedOff_Amount '].astype(np.float64)"
      ],
      "id": "ed6eddf2"
    },
    {
      "cell_type": "code",
      "execution_count": null,
      "metadata": {
        "id": "02e25dc6"
      },
      "outputs": [],
      "source": [
        "data.drop('Gross_Amount_Balance',axis=1,inplace=True)"
      ],
      "id": "02e25dc6"
    },
    {
      "cell_type": "code",
      "execution_count": null,
      "metadata": {
        "id": "91e75636"
      },
      "outputs": [],
      "source": [
        "test['Gross_Amount_Balance'].value_counts()"
      ],
      "id": "91e75636"
    },
    {
      "cell_type": "code",
      "execution_count": null,
      "metadata": {
        "id": "e0da2333"
      },
      "outputs": [],
      "source": [
        "data['Loan_Approved_Gross'] = data['Loan_Approved_Gross'].str.split('Rs.').str[1]"
      ],
      "id": "e0da2333"
    },
    {
      "cell_type": "code",
      "execution_count": null,
      "metadata": {
        "id": "ac97eabc"
      },
      "outputs": [],
      "source": [
        "data['Loan_Approved_Gross']=data['Loan_Approved_Gross'].astype(np.float64)"
      ],
      "id": "ac97eabc"
    },
    {
      "cell_type": "code",
      "execution_count": null,
      "metadata": {
        "id": "a9e29e83"
      },
      "outputs": [],
      "source": [
        "data['Gross_Amount_Disbursed  '] = data['Gross_Amount_Disbursed  '].str.split('Rs.').str[1]"
      ],
      "id": "a9e29e83"
    },
    {
      "cell_type": "code",
      "execution_count": null,
      "metadata": {
        "id": "16a6100f"
      },
      "outputs": [],
      "source": [
        "data['Gross_Amount_Disbursed  ']=data['Gross_Amount_Disbursed  '].astype(np.float64)"
      ],
      "id": "16a6100f"
    },
    {
      "cell_type": "code",
      "execution_count": null,
      "metadata": {
        "id": "206a9400"
      },
      "outputs": [],
      "source": [
        "data.info()"
      ],
      "id": "206a9400"
    },
    {
      "cell_type": "code",
      "source": [
        "data[\"Date_Of_Disbursement\"] = pd.to_datetime(data[\"Date_Of_Disbursement\"])"
      ],
      "metadata": {
        "id": "GFdc2K7y-xjU"
      },
      "id": "GFdc2K7y-xjU",
      "execution_count": null,
      "outputs": []
    },
    {
      "cell_type": "code",
      "source": [
        "data[\"Date_Of_Disbursement_Day\"] = data[\"Date_Of_Disbursement\"].dt.day"
      ],
      "metadata": {
        "id": "88QzX6MJ-79e"
      },
      "id": "88QzX6MJ-79e",
      "execution_count": null,
      "outputs": []
    },
    {
      "cell_type": "code",
      "source": [
        "data[\"Date_Of_Disbursement_Month\"] = data[\"Date_Of_Disbursement\"].dt.month"
      ],
      "metadata": {
        "id": "SQ1OCMVt_BJA"
      },
      "id": "SQ1OCMVt_BJA",
      "execution_count": null,
      "outputs": []
    },
    {
      "cell_type": "code",
      "source": [
        "data[\"Date_Of_Disbursement_Year\"] = data[\"Date_Of_Disbursement\"].dt.year "
      ],
      "metadata": {
        "id": "HvUfw6Am_GYE"
      },
      "id": "HvUfw6Am_GYE",
      "execution_count": null,
      "outputs": []
    },
    {
      "cell_type": "code",
      "source": [
        "data.drop(\"Date_Of_Disbursement\", axis=1, inplace=True)"
      ],
      "metadata": {
        "id": "zhA3uNkn_LK1"
      },
      "id": "zhA3uNkn_LK1",
      "execution_count": null,
      "outputs": []
    },
    {
      "cell_type": "code",
      "source": [
        "data =  data.drop(['Commitment_Date'],1)"
      ],
      "metadata": {
        "id": "LLF02uU4_QpA"
      },
      "id": "LLF02uU4_QpA",
      "execution_count": null,
      "outputs": []
    },
    {
      "cell_type": "code",
      "source": [
        "test[\"Date_Of_Disbursement\"] = pd.to_datetime(test[\"Date_Of_Disbursement\"])"
      ],
      "metadata": {
        "id": "vUYYEIszIjg6"
      },
      "id": "vUYYEIszIjg6",
      "execution_count": null,
      "outputs": []
    },
    {
      "cell_type": "code",
      "source": [
        "test[\"Date_Of_Disbursement_Day\"] = test[\"Date_Of_Disbursement\"].dt.day "
      ],
      "metadata": {
        "id": "a4Dq2ydvIoNk"
      },
      "id": "a4Dq2ydvIoNk",
      "execution_count": null,
      "outputs": []
    },
    {
      "cell_type": "code",
      "source": [
        "test[\"Date_Of_Disbursement_Month\"] = test[\"Date_Of_Disbursement\"].dt.month"
      ],
      "metadata": {
        "id": "CeA5n4EjIuGw"
      },
      "id": "CeA5n4EjIuGw",
      "execution_count": null,
      "outputs": []
    },
    {
      "cell_type": "code",
      "source": [
        "test[\"Date_Of_Disbursement_Year\"] = test[\"Date_Of_Disbursement\"].dt.year  "
      ],
      "metadata": {
        "id": "CSQt1lghIxJ5"
      },
      "id": "CSQt1lghIxJ5",
      "execution_count": null,
      "outputs": []
    },
    {
      "cell_type": "code",
      "source": [
        "test.drop(\"Date_Of_Disbursement\", axis=1, inplace=True)"
      ],
      "metadata": {
        "id": "VUwDHcneI0Fe"
      },
      "id": "VUwDHcneI0Fe",
      "execution_count": null,
      "outputs": []
    },
    {
      "cell_type": "code",
      "execution_count": null,
      "metadata": {
        "id": "062b7dce"
      },
      "outputs": [],
      "source": [
        "from pycaret.classification import * #automl "
      ],
      "id": "062b7dce"
    },
    {
      "cell_type": "code",
      "execution_count": null,
      "metadata": {
        "id": "202956bd"
      },
      "outputs": [],
      "source": [
        "s = setup(data,target='Default')"
      ],
      "id": "202956bd"
    },
    {
      "cell_type": "code",
      "execution_count": null,
      "metadata": {
        "id": "65405aca"
      },
      "outputs": [],
      "source": [
        "best=compare_models()"
      ],
      "id": "65405aca"
    },
    {
      "cell_type": "code",
      "execution_count": null,
      "metadata": {
        "id": "36c7a072"
      },
      "outputs": [],
      "source": [
        "evaluate_model(best)"
      ],
      "id": "36c7a072"
    },
    {
      "cell_type": "code",
      "source": [
        "test['Guaranteed_Approved _Loan']=test['Guaranteed_Approved _Loan'].str.split('Rs.').str[1]"
      ],
      "metadata": {
        "id": "JfdbcF-_HTzu"
      },
      "id": "JfdbcF-_HTzu",
      "execution_count": null,
      "outputs": []
    },
    {
      "cell_type": "code",
      "source": [
        "test['ChargedOff_Amount ']=test['ChargedOff_Amount '].str.split('Rs.').str[1]"
      ],
      "metadata": {
        "id": "-3b9HgRaHbKE"
      },
      "id": "-3b9HgRaHbKE",
      "execution_count": null,
      "outputs": []
    },
    {
      "cell_type": "code",
      "source": [
        "test['Loan_Approved_Gross']=test['Loan_Approved_Gross'].str.split('Rs.').str[1]"
      ],
      "metadata": {
        "id": "pS1LPiPKHhBM"
      },
      "id": "pS1LPiPKHhBM",
      "execution_count": null,
      "outputs": []
    },
    {
      "cell_type": "code",
      "source": [
        "test['Gross_Amount_Disbursed  ']=test['Gross_Amount_Disbursed  '].str.split('Rs.').str[1]"
      ],
      "metadata": {
        "id": "tKVbiyzeHljy"
      },
      "id": "tKVbiyzeHljy",
      "execution_count": null,
      "outputs": []
    },
    {
      "cell_type": "code",
      "source": [
        "test['Guaranteed_Approved _Loan']=test['Guaranteed_Approved _Loan'].astype(np.float64)"
      ],
      "metadata": {
        "id": "f2b6x25QHrnM"
      },
      "id": "f2b6x25QHrnM",
      "execution_count": null,
      "outputs": []
    },
    {
      "cell_type": "code",
      "source": [
        "test['ChargedOff_Amount ']=test['ChargedOff_Amount '].astype(np.float64)"
      ],
      "metadata": {
        "id": "3vLj2ln2Hvi6"
      },
      "id": "3vLj2ln2Hvi6",
      "execution_count": null,
      "outputs": []
    },
    {
      "cell_type": "code",
      "source": [
        "test['Loan_Approved_Gross']=test['Loan_Approved_Gross'].astype(np.float64)"
      ],
      "metadata": {
        "id": "Ma7V-Sn4H0Mu"
      },
      "id": "Ma7V-Sn4H0Mu",
      "execution_count": null,
      "outputs": []
    },
    {
      "cell_type": "code",
      "source": [
        "test['Gross_Amount_Disbursed  ']=test['Gross_Amount_Disbursed  '].astype(np.float64)"
      ],
      "metadata": {
        "id": "8E1D8wzSH4kY"
      },
      "id": "8E1D8wzSH4kY",
      "execution_count": null,
      "outputs": []
    },
    {
      "cell_type": "code",
      "source": [
        "test.drop('Gross_Amount_Balance',axis=1,inplace=True)"
      ],
      "metadata": {
        "id": "OF1wot_mIJkW"
      },
      "id": "OF1wot_mIJkW",
      "execution_count": null,
      "outputs": []
    },
    {
      "cell_type": "code",
      "source": [
        "test =  test.drop(['Commitment_Date'],1)"
      ],
      "metadata": {
        "id": "Df7cDJt7ISlT"
      },
      "id": "Df7cDJt7ISlT",
      "execution_count": null,
      "outputs": []
    },
    {
      "cell_type": "code",
      "execution_count": null,
      "metadata": {
        "id": "afec2653"
      },
      "outputs": [],
      "source": [
        "lr=predict_model(best,data=test)"
      ],
      "id": "afec2653"
    },
    {
      "cell_type": "code",
      "execution_count": null,
      "metadata": {
        "id": "410c042b"
      },
      "outputs": [],
      "source": [
        "test.info()"
      ],
      "id": "410c042b"
    },
    {
      "cell_type": "code",
      "execution_count": null,
      "metadata": {
        "id": "ef150975"
      },
      "outputs": [],
      "source": [
        "test.shape"
      ],
      "id": "ef150975"
    },
    {
      "cell_type": "code",
      "execution_count": null,
      "metadata": {
        "id": "dd00b87f"
      },
      "outputs": [],
      "source": [
        "ss=predict_model(best,data=test)"
      ],
      "id": "dd00b87f"
    },
    {
      "cell_type": "code",
      "execution_count": null,
      "metadata": {
        "id": "4692d034"
      },
      "outputs": [],
      "source": [
        "ss"
      ],
      "id": "4692d034"
    },
    {
      "cell_type": "code",
      "execution_count": null,
      "metadata": {
        "id": "d83ec948"
      },
      "outputs": [],
      "source": [
        "ss.to_csv('lr_base_pred.csv')"
      ],
      "id": "d83ec948"
    },
    {
      "cell_type": "code",
      "execution_count": null,
      "metadata": {
        "id": "257af455"
      },
      "outputs": [],
      "source": [
        "test['default']=ss['prediction_label']"
      ],
      "id": "257af455"
    },
    {
      "cell_type": "code",
      "execution_count": null,
      "metadata": {
        "id": "e9d33d87"
      },
      "outputs": [],
      "source": [
        "test.to_csv('lr_bse.csv')"
      ],
      "id": "e9d33d87"
    }
  ],
  "metadata": {
    "colab": {
      "provenance": [],
      "include_colab_link": true
    },
    "kernelspec": {
      "display_name": "Python 3 (ipykernel)",
      "language": "python",
      "name": "python3"
    },
    "language_info": {
      "codemirror_mode": {
        "name": "ipython",
        "version": 3
      },
      "file_extension": ".py",
      "mimetype": "text/x-python",
      "name": "python",
      "nbconvert_exporter": "python",
      "pygments_lexer": "ipython3",
      "version": "3.10.4"
    },
    "widgets": {
      "application/vnd.jupyter.widget-state+json": {
        "e52a6548371d483ea39574e97fc37bc1": {
          "model_module": "@jupyter-widgets/controls",
          "model_name": "HBoxModel",
          "model_module_version": "1.5.0",
          "state": {
            "_dom_classes": [],
            "_model_module": "@jupyter-widgets/controls",
            "_model_module_version": "1.5.0",
            "_model_name": "HBoxModel",
            "_view_count": null,
            "_view_module": "@jupyter-widgets/controls",
            "_view_module_version": "1.5.0",
            "_view_name": "HBoxView",
            "box_style": "",
            "children": [
              "IPY_MODEL_a72be38f39e2466aa4345187004508ed",
              "IPY_MODEL_6f48295b3abb43a09a2d32fb1819e8a6",
              "IPY_MODEL_a4f20ba50cf94a05819c73ee8e76e3ab"
            ],
            "layout": "IPY_MODEL_76e23834beee4d08b3477be10ad1a487"
          }
        },
        "a72be38f39e2466aa4345187004508ed": {
          "model_module": "@jupyter-widgets/controls",
          "model_name": "HTMLModel",
          "model_module_version": "1.5.0",
          "state": {
            "_dom_classes": [],
            "_model_module": "@jupyter-widgets/controls",
            "_model_module_version": "1.5.0",
            "_model_name": "HTMLModel",
            "_view_count": null,
            "_view_module": "@jupyter-widgets/controls",
            "_view_module_version": "1.5.0",
            "_view_name": "HTMLView",
            "description": "",
            "description_tooltip": null,
            "layout": "IPY_MODEL_6bf58bf2f168448981885de216a8c349",
            "placeholder": "​",
            "style": "IPY_MODEL_26af3d7093f844a090dd9fe65fb9ecc0",
            "value": "Processing: 100%"
          }
        },
        "6f48295b3abb43a09a2d32fb1819e8a6": {
          "model_module": "@jupyter-widgets/controls",
          "model_name": "FloatProgressModel",
          "model_module_version": "1.5.0",
          "state": {
            "_dom_classes": [],
            "_model_module": "@jupyter-widgets/controls",
            "_model_module_version": "1.5.0",
            "_model_name": "FloatProgressModel",
            "_view_count": null,
            "_view_module": "@jupyter-widgets/controls",
            "_view_module_version": "1.5.0",
            "_view_name": "ProgressView",
            "bar_style": "",
            "description": "",
            "description_tooltip": null,
            "layout": "IPY_MODEL_2de5bc272207409c93e48c325c2a3cfa",
            "max": 61,
            "min": 0,
            "orientation": "horizontal",
            "style": "IPY_MODEL_cc70301edae94174a79bdaabad1ed958",
            "value": 61
          }
        },
        "a4f20ba50cf94a05819c73ee8e76e3ab": {
          "model_module": "@jupyter-widgets/controls",
          "model_name": "HTMLModel",
          "model_module_version": "1.5.0",
          "state": {
            "_dom_classes": [],
            "_model_module": "@jupyter-widgets/controls",
            "_model_module_version": "1.5.0",
            "_model_name": "HTMLModel",
            "_view_count": null,
            "_view_module": "@jupyter-widgets/controls",
            "_view_module_version": "1.5.0",
            "_view_name": "HTMLView",
            "description": "",
            "description_tooltip": null,
            "layout": "IPY_MODEL_92e9aae4c7ce45d8869f9bb24348c8a9",
            "placeholder": "​",
            "style": "IPY_MODEL_b3ac487a4b1e49b5b135e70d6c210bc6",
            "value": " 61/61 [31:47&lt;00:00, 20.82s/it]"
          }
        },
        "76e23834beee4d08b3477be10ad1a487": {
          "model_module": "@jupyter-widgets/base",
          "model_name": "LayoutModel",
          "model_module_version": "1.2.0",
          "state": {
            "_model_module": "@jupyter-widgets/base",
            "_model_module_version": "1.2.0",
            "_model_name": "LayoutModel",
            "_view_count": null,
            "_view_module": "@jupyter-widgets/base",
            "_view_module_version": "1.2.0",
            "_view_name": "LayoutView",
            "align_content": null,
            "align_items": null,
            "align_self": null,
            "border": null,
            "bottom": null,
            "display": null,
            "flex": null,
            "flex_flow": null,
            "grid_area": null,
            "grid_auto_columns": null,
            "grid_auto_flow": null,
            "grid_auto_rows": null,
            "grid_column": null,
            "grid_gap": null,
            "grid_row": null,
            "grid_template_areas": null,
            "grid_template_columns": null,
            "grid_template_rows": null,
            "height": null,
            "justify_content": null,
            "justify_items": null,
            "left": null,
            "margin": null,
            "max_height": null,
            "max_width": null,
            "min_height": null,
            "min_width": null,
            "object_fit": null,
            "object_position": null,
            "order": null,
            "overflow": null,
            "overflow_x": null,
            "overflow_y": null,
            "padding": null,
            "right": null,
            "top": null,
            "visibility": "hidden",
            "width": null
          }
        },
        "6bf58bf2f168448981885de216a8c349": {
          "model_module": "@jupyter-widgets/base",
          "model_name": "LayoutModel",
          "model_module_version": "1.2.0",
          "state": {
            "_model_module": "@jupyter-widgets/base",
            "_model_module_version": "1.2.0",
            "_model_name": "LayoutModel",
            "_view_count": null,
            "_view_module": "@jupyter-widgets/base",
            "_view_module_version": "1.2.0",
            "_view_name": "LayoutView",
            "align_content": null,
            "align_items": null,
            "align_self": null,
            "border": null,
            "bottom": null,
            "display": null,
            "flex": null,
            "flex_flow": null,
            "grid_area": null,
            "grid_auto_columns": null,
            "grid_auto_flow": null,
            "grid_auto_rows": null,
            "grid_column": null,
            "grid_gap": null,
            "grid_row": null,
            "grid_template_areas": null,
            "grid_template_columns": null,
            "grid_template_rows": null,
            "height": null,
            "justify_content": null,
            "justify_items": null,
            "left": null,
            "margin": null,
            "max_height": null,
            "max_width": null,
            "min_height": null,
            "min_width": null,
            "object_fit": null,
            "object_position": null,
            "order": null,
            "overflow": null,
            "overflow_x": null,
            "overflow_y": null,
            "padding": null,
            "right": null,
            "top": null,
            "visibility": null,
            "width": null
          }
        },
        "26af3d7093f844a090dd9fe65fb9ecc0": {
          "model_module": "@jupyter-widgets/controls",
          "model_name": "DescriptionStyleModel",
          "model_module_version": "1.5.0",
          "state": {
            "_model_module": "@jupyter-widgets/controls",
            "_model_module_version": "1.5.0",
            "_model_name": "DescriptionStyleModel",
            "_view_count": null,
            "_view_module": "@jupyter-widgets/base",
            "_view_module_version": "1.2.0",
            "_view_name": "StyleView",
            "description_width": ""
          }
        },
        "2de5bc272207409c93e48c325c2a3cfa": {
          "model_module": "@jupyter-widgets/base",
          "model_name": "LayoutModel",
          "model_module_version": "1.2.0",
          "state": {
            "_model_module": "@jupyter-widgets/base",
            "_model_module_version": "1.2.0",
            "_model_name": "LayoutModel",
            "_view_count": null,
            "_view_module": "@jupyter-widgets/base",
            "_view_module_version": "1.2.0",
            "_view_name": "LayoutView",
            "align_content": null,
            "align_items": null,
            "align_self": null,
            "border": null,
            "bottom": null,
            "display": null,
            "flex": null,
            "flex_flow": null,
            "grid_area": null,
            "grid_auto_columns": null,
            "grid_auto_flow": null,
            "grid_auto_rows": null,
            "grid_column": null,
            "grid_gap": null,
            "grid_row": null,
            "grid_template_areas": null,
            "grid_template_columns": null,
            "grid_template_rows": null,
            "height": null,
            "justify_content": null,
            "justify_items": null,
            "left": null,
            "margin": null,
            "max_height": null,
            "max_width": null,
            "min_height": null,
            "min_width": null,
            "object_fit": null,
            "object_position": null,
            "order": null,
            "overflow": null,
            "overflow_x": null,
            "overflow_y": null,
            "padding": null,
            "right": null,
            "top": null,
            "visibility": null,
            "width": null
          }
        },
        "cc70301edae94174a79bdaabad1ed958": {
          "model_module": "@jupyter-widgets/controls",
          "model_name": "ProgressStyleModel",
          "model_module_version": "1.5.0",
          "state": {
            "_model_module": "@jupyter-widgets/controls",
            "_model_module_version": "1.5.0",
            "_model_name": "ProgressStyleModel",
            "_view_count": null,
            "_view_module": "@jupyter-widgets/base",
            "_view_module_version": "1.2.0",
            "_view_name": "StyleView",
            "bar_color": null,
            "description_width": ""
          }
        },
        "92e9aae4c7ce45d8869f9bb24348c8a9": {
          "model_module": "@jupyter-widgets/base",
          "model_name": "LayoutModel",
          "model_module_version": "1.2.0",
          "state": {
            "_model_module": "@jupyter-widgets/base",
            "_model_module_version": "1.2.0",
            "_model_name": "LayoutModel",
            "_view_count": null,
            "_view_module": "@jupyter-widgets/base",
            "_view_module_version": "1.2.0",
            "_view_name": "LayoutView",
            "align_content": null,
            "align_items": null,
            "align_self": null,
            "border": null,
            "bottom": null,
            "display": null,
            "flex": null,
            "flex_flow": null,
            "grid_area": null,
            "grid_auto_columns": null,
            "grid_auto_flow": null,
            "grid_auto_rows": null,
            "grid_column": null,
            "grid_gap": null,
            "grid_row": null,
            "grid_template_areas": null,
            "grid_template_columns": null,
            "grid_template_rows": null,
            "height": null,
            "justify_content": null,
            "justify_items": null,
            "left": null,
            "margin": null,
            "max_height": null,
            "max_width": null,
            "min_height": null,
            "min_width": null,
            "object_fit": null,
            "object_position": null,
            "order": null,
            "overflow": null,
            "overflow_x": null,
            "overflow_y": null,
            "padding": null,
            "right": null,
            "top": null,
            "visibility": null,
            "width": null
          }
        },
        "b3ac487a4b1e49b5b135e70d6c210bc6": {
          "model_module": "@jupyter-widgets/controls",
          "model_name": "DescriptionStyleModel",
          "model_module_version": "1.5.0",
          "state": {
            "_model_module": "@jupyter-widgets/controls",
            "_model_module_version": "1.5.0",
            "_model_name": "DescriptionStyleModel",
            "_view_count": null,
            "_view_module": "@jupyter-widgets/base",
            "_view_module_version": "1.2.0",
            "_view_name": "StyleView",
            "description_width": ""
          }
        }
      }
    }
  },
  "nbformat": 4,
  "nbformat_minor": 5
}